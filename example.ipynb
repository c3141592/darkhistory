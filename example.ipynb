{
 "cells": [
  {
   "cell_type": "code",
   "execution_count": 19,
   "metadata": {
    "collapsed": true
   },
   "outputs": [],
   "source": [
    "%load_ext autoreload"
   ]
  },
  {
   "cell_type": "code",
   "execution_count": 157,
   "metadata": {},
   "outputs": [],
   "source": [
    "%autoreload\n",
    "\n",
    "import numpy as np\n",
    "import physics as phys\n",
    "import utilities as utils\n",
    "import spectrum as spec\n",
    "\n",
    "from scipy import integrate"
   ]
  },
  {
   "cell_type": "code",
   "execution_count": 114,
   "metadata": {},
   "outputs": [],
   "source": [
    "eng = np.array([0.1, 2, 4.5, 10, 367, 4250])\n",
    "dNdE = np.array([0.004, 0.3, 500, 28, 1e-5, 1e7])\n",
    "rs = 200\n",
    "test_spec = spec.Spectrum(eng,dNdE,rs)"
   ]
  },
  {
   "cell_type": "code",
   "execution_count": 87,
   "metadata": {},
   "outputs": [
    {
     "name": "stdout",
     "output_type": "stream",
     "text": [
      "[-2.30258509  0.69314718  1.5040774   2.30258509  5.90536185  8.35467426]\n",
      "[ 2.99573227  1.90333124  0.80471896  2.20064223  3.02604458  2.44931241]\n",
      "[-3.80045123 -0.80471896  1.09861229  1.90333124  4.10397347  7.13001805\n",
      "  9.57933047]\n"
     ]
    }
   ],
   "source": [
    "print(np.log(test_spec.eng))\n",
    "print(test_spec.log_bin_width)\n",
    "print(np.log(test_spec.bin_boundary))"
   ]
  },
  {
   "cell_type": "code",
   "execution_count": 88,
   "metadata": {},
   "outputs": [
    {
     "name": "stdout",
     "output_type": "stream",
     "text": [
      "104095780017.0\n",
      "104095780017.0\n",
      "4.42407054768e+14\n",
      "4.42407054768e+14\n",
      "2427.37402683\n",
      "4.42407054768e+14\n"
     ]
    }
   ],
   "source": [
    "print(test_spec.totN())\n",
    "print(np.dot(test_spec.eng*test_spec.log_bin_width,test_spec.dNdE))\n",
    "print(test_spec.toteng())\n",
    "print(np.dot(test_spec.eng**2*test_spec.log_bin_width,test_spec.dNdE))\n",
    "\n",
    "print(test_spec.totN('bin',np.array([1.5,4.5])))\n",
    "print(test_spec.toteng('bin',np.array([1.5,6.5])))"
   ]
  },
  {
   "cell_type": "code",
   "execution_count": 90,
   "metadata": {},
   "outputs": [
    {
     "data": {
      "text/plain": [
       "array([-3.80045123, -0.80471896,  1.09861229,  1.90333124,  4.10397347,\n",
       "        7.13001805,  9.57933047])"
      ]
     },
     "execution_count": 90,
     "metadata": {},
     "output_type": "execute_result"
    }
   ],
   "source": [
    "np.log(spec.get_bin_bound(eng))"
   ]
  },
  {
   "cell_type": "code",
   "execution_count": 129,
   "metadata": {},
   "outputs": [
    {
     "name": "stdout",
     "output_type": "stream",
     "text": [
      "7.6744358165e+12\n"
     ]
    }
   ],
   "source": [
    "test_spec_CMB = phys.CMB_spec(1.,1)\n",
    "print(test_spec_CMB)"
   ]
  },
  {
   "cell_type": "code",
   "execution_count": 158,
   "metadata": {},
   "outputs": [
    {
     "name": "stdout",
     "output_type": "stream",
     "text": [
      "[  1.32320934e+12   3.29409682e+12   4.98139772e+12   5.23894085e+09]\n"
     ]
    }
   ],
   "source": [
    "def CMB_spec_at1eV(eng):\n",
    "    return phys.CMB_spec(eng,1)\n",
    "    \n",
    "test = spec.discretize(CMB_spec_at1eV,np.array([0.1,0.2,1,40]))\n",
    "print(test.dNdE)"
   ]
  },
  {
   "cell_type": "code",
   "execution_count": 120,
   "metadata": {},
   "outputs": [
    {
     "ename": "IndexError",
     "evalue": "too many indices for array",
     "output_type": "error",
     "traceback": [
      "\u001b[0;31m---------------------------------------------------------------------------\u001b[0m",
      "\u001b[0;31mIndexError\u001b[0m                                Traceback (most recent call last)",
      "\u001b[0;32m<ipython-input-120-00d4a978143a>\u001b[0m in \u001b[0;36m<module>\u001b[0;34m()\u001b[0m\n\u001b[0;32m----> 1\u001b[0;31m \u001b[0mprint\u001b[0m\u001b[0;34m(\u001b[0m\u001b[0ma\u001b[0m\u001b[0;34m[\u001b[0m\u001b[0;36m0\u001b[0m\u001b[0;34m]\u001b[0m\u001b[0;34m)\u001b[0m\u001b[0;34m\u001b[0m\u001b[0m\n\u001b[0m",
      "\u001b[0;31mIndexError\u001b[0m: too many indices for array"
     ]
    }
   ],
   "source": [
    "print(a[0])"
   ]
  },
  {
   "cell_type": "code",
   "execution_count": null,
   "metadata": {
    "collapsed": true
   },
   "outputs": [],
   "source": []
  }
 ],
 "metadata": {
  "anaconda-cloud": {},
  "kernelspec": {
   "display_name": "Python 3",
   "language": "python",
   "name": "python3"
  },
  "language_info": {
   "codemirror_mode": {
    "name": "ipython",
    "version": 3
   },
   "file_extension": ".py",
   "mimetype": "text/x-python",
   "name": "python",
   "nbconvert_exporter": "python",
   "pygments_lexer": "ipython3",
   "version": "3.6.1"
  }
 },
 "nbformat": 4,
 "nbformat_minor": 1
}

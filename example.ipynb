{
 "cells": [
  {
   "cell_type": "code",
   "execution_count": 5,
   "metadata": {
    "collapsed": false
   },
   "outputs": [
    {
     "name": "stdout",
     "output_type": "stream",
     "text": [
      "The autoreload extension is already loaded. To reload it, use:\n",
      "  %reload_ext autoreload\n"
     ]
    }
   ],
   "source": [
    "%load_ext autoreload"
   ]
  },
  {
   "cell_type": "code",
   "execution_count": 21,
   "metadata": {
    "collapsed": true
   },
   "outputs": [],
   "source": [
    "%autoreload\n",
    "\n",
    "import numpy as np\n",
    "import physics as phys\n",
    "import utilities as utils\n",
    "import spectrum as spec\n",
    "\n",
    "from scipy import integrate"
   ]
  },
  {
   "cell_type": "code",
   "execution_count": 27,
   "metadata": {
    "collapsed": false
   },
   "outputs": [
    {
     "name": "stdout",
     "output_type": "stream",
     "text": [
      "initial total N:  396686.697945\n",
      "initial total eng:  90974348.553\n",
      "initial abscissa:  [  1.00000000e-01   1.20000000e+00   3.65400000e+01   2.30122000e+02\n",
      "   5.10000000e+02]\n",
      "initial dN/dE:  [  1.00000000e+01   1.52000000e+01   1.67000000e+01   1.30229000e+03\n",
      "   1.00000000e-01]\n",
      "initial N in each bin:  [  2.48490665e+00   5.38170529e+01   1.60374079e+03   3.94986069e+05]\n",
      "initial eng in each bin:  [  2.48490665e-01   6.45804635e+01   5.86006884e+04   9.08949842e+07]\n",
      "**********************************************************\n",
      "final total N:  396686.697945\n",
      "final total eng:  90974348.553\n",
      "final total eng/initial total eng:  1.0\n",
      "final abscissa:  [  1.00000000e-01   5.20000000e-01   5.00000000e+00   2.10400000e+02\n",
      "   4.01200000e+03]\n",
      "final dN/dE:  [  1.40540352e+02   2.07092487e+01   9.11410742e+01   5.58920148e+02\n",
      "   1.73520256e-01]\n",
      "final N in each bin:  [  2.31703064e+01   2.10639149e+01   1.36778530e+03   3.93220603e+05]\n",
      "final eng in each bin:  [  2.31703064e+00   1.09532358e+01   6.83892652e+03   8.27336148e+07]\n",
      "N underflow:  1.76234514169\n",
      "eng underflow:  0.0317222125505\n",
      "**********************************************************\n",
      "final total N:  396686.697945\n",
      "final total eng:  454871.742765\n",
      "final total eng/initial total eng:  0.005\n",
      "final abscissa:  [  1.00000000e-01   5.20000000e-01   5.00000000e+00   2.10400000e+02\n",
      "   4.01200000e+03]\n",
      "final dN/dE:  [  5.92596604e+02   3.40690989e+05   3.23820051e+03   2.13885687e-01\n",
      "   0.00000000e+00]\n",
      "final N in each bin:  [  9.76989503e+01   3.46525656e+05   4.85967837e+04   1.50476341e+02]\n",
      "final eng in each bin:  [  9.76989503e+00   1.80193341e+05   2.42983918e+05   3.16602221e+04]\n",
      "N underflow:  1316.08292002\n",
      "eng underflow:  24.4912475117\n",
      "**********************************************************\n",
      "final total N:  396686.697945\n",
      "final total eng:  270648.686945\n",
      "final total eng/initial total eng:  0.002975\n",
      "final abscissa:  [  1.00000000e-01   5.20000000e-01   5.00000000e+00   2.10400000e+02\n",
      "   4.01200000e+03]\n",
      "final dN/dE:  [  1.05423022e+06   1.91455115e+05   1.77866469e+03   1.25153325e-01\n",
      "   0.00000000e+00]\n",
      "final N in each bin:  [  1.73806575e+05   1.94733971e+05   2.66930300e+04   8.80499049e+01]\n",
      "final eng in each bin:  [  17380.65745918  101261.66517973  133465.14992034   18525.69999674]\n",
      "N underflow:  1365.07196509\n",
      "eng underflow:  15.51438929\n"
     ]
    }
   ],
   "source": [
    "def CMB_spec_at1eV(eng):\n",
    "    return phys.CMB_spec(eng,1)\n",
    "    \n",
    "eng_test = np.array([0.1, 1.2, 36.54, 230.122, 510])\n",
    "test = spec.Spectrum(eng_test, np.array([10., 15.2, 16.7, 1302.29, 0.1]), 1000.)\n",
    "init_toteng = test.toteng()\n",
    "print('initial total N: ', test.totN())\n",
    "print('initial total eng: ', test.toteng())\n",
    "print('initial abscissa: ', test.eng)\n",
    "print('initial dN/dE: ', test.dNdE)\n",
    "print('initial N in each bin: ', test.totN('bin', np.array([0,1,2,3,4])))\n",
    "print('initial eng in each bin: ', test.toteng('bin', np.array([0,1,2,3,4])))\n",
    "test.rebin(np.array([0.3, 5, 50, 210.4, 3050]))\n",
    "test.rebin(np.array([0.1, 0.52, 5, 210.4, 4012]))\n",
    "print('**********************************************************')\n",
    "# test.redshift(20)\n",
    "print('final total N: ', test.totN())\n",
    "print('final total eng: ', test.toteng())\n",
    "print('final total eng/initial total eng: ', test.toteng()/init_toteng)\n",
    "print('final abscissa: ', test.eng)\n",
    "print('final dN/dE: ', test.dNdE)\n",
    "print('final N in each bin: ', test.totN('bin', np.array([0,1,2,3,4])))\n",
    "print('final eng in each bin: ', test.toteng('bin', np.array([0,1,2,3,4])))\n",
    "print('N underflow: ', test.underflow['N'])\n",
    "print('eng underflow: ', test.underflow['eng'])\n",
    "print('**********************************************************')\n",
    "test.redshift(5)\n",
    "print('final total N: ', test.totN())\n",
    "print('final total eng: ', test.toteng())\n",
    "print('final total eng/initial total eng: ', test.toteng()/init_toteng)\n",
    "print('final abscissa: ', test.eng)\n",
    "print('final dN/dE: ', test.dNdE)\n",
    "print('final N in each bin: ', test.totN('bin', np.array([0,1,2,3,4])))\n",
    "print('final eng in each bin: ', test.toteng('bin', np.array([0,1,2,3,4])))\n",
    "print('N underflow: ', test.underflow['N'])\n",
    "print('eng underflow: ', test.underflow['eng'])\n",
    "print('**********************************************************')\n",
    "test.redshift(2.975)\n",
    "print('final total N: ', test.totN())\n",
    "print('final total eng: ', test.toteng())\n",
    "print('final total eng/initial total eng: ', test.toteng()/init_toteng)\n",
    "print('final abscissa: ', test.eng)\n",
    "print('final dN/dE: ', test.dNdE)\n",
    "print('final N in each bin: ', test.totN('bin', np.array([0,1,2,3,4])))\n",
    "print('final eng in each bin: ', test.toteng('bin', np.array([0,1,2,3,4])))\n",
    "print('N underflow: ', test.underflow['N'])\n",
    "print('eng underflow: ', test.underflow['eng'])"
   ]
  },
  {
   "cell_type": "code",
   "execution_count": 264,
   "metadata": {
    "collapsed": false
   },
   "outputs": [
    {
     "name": "stdout",
     "output_type": "stream",
     "text": [
      "255.84278777777777\n",
      "2046.7423022222222\n",
      "0.2558427852193498\n",
      "2.04674230478065\n"
     ]
    }
   ],
   "source": [
    "print(2302.58509*(100-50)/(500-50))\n",
    "print(2302.58509*(500-100)/(500-50))\n",
    "print(2.30258509*(1-0.88888889))\n",
    "print(2.30258509*(0.88888889))"
   ]
  },
  {
   "cell_type": "code",
   "execution_count": 215,
   "metadata": {
    "collapsed": false
   },
   "outputs": [
    {
     "name": "stdout",
     "output_type": "stream",
     "text": [
      "[  1.19829291e-03   1.14199875e+00   1.81061765e+03   6.16179823e+02\n",
      "   1.11055836e-02   1.04095778e+11]\n",
      "104095780017.0\n",
      "104095780017.0\n",
      "[  1.19829291e-04   2.28399749e+00   8.14777943e+03   6.16179823e+03\n",
      "   4.07574919e+00   4.42407055e+14]\n",
      "4.42407054768e+14\n",
      "4.42407054768e+14\n"
     ]
    }
   ],
   "source": [
    "eng = np.array([0.1, 2, 4.5, 10, 367, 4250])\n",
    "dNdE = np.array([0.004, 0.3, 500, 28, 1e-5, 1e7])\n",
    "rs = 200\n",
    "test_spec = spec.Spectrum(eng,dNdE,rs)\n",
    "\n",
    "N_in_bin = test_spec.totN('bin',np.array([0, 1, 2, 3, 4, 5, 6]))\n",
    "eng_in_bin = test_spec.toteng('bin',np.array([0, 1, 2, 3, 4, 5, 6]))\n",
    "print(N_in_bin)\n",
    "print(test_spec.totN())\n",
    "print(np.sum(N_in_bin))\n",
    "\n",
    "print(eng_in_bin)\n",
    "print(test_spec.toteng())\n",
    "print(np.sum(eng_in_bin))"
   ]
  },
  {
   "cell_type": "code",
   "execution_count": 69,
   "metadata": {
    "collapsed": true
   },
   "outputs": [],
   "source": [
    "eng = np.array([0.1, 2, 4.5, 10, 367, 4250])\n",
    "dNdE = np.array([0.004, 0.3, 500, 28, 1e-5, 1e7])\n",
    "rs = 200\n",
    "test_spec = spec.Spectrum(eng,dNdE,rs)"
   ]
  },
  {
   "cell_type": "code",
   "execution_count": 70,
   "metadata": {
    "collapsed": false
   },
   "outputs": [
    {
     "name": "stdout",
     "output_type": "stream",
     "text": [
      "[-2.30258509  0.69314718  1.5040774   2.30258509  5.90536185  8.35467426]\n",
      "[ 2.99573227  1.90333124  0.80471896  2.20064223  3.02604458  2.44931241]\n",
      "[-3.80045123 -0.80471896  1.09861229  1.90333124  4.10397347  7.13001805\n",
      "  9.57933047]\n"
     ]
    }
   ],
   "source": [
    "print(np.log(test_spec.eng))\n",
    "print(test_spec.log_bin_width)\n",
    "print(np.log(test_spec.bin_boundary))"
   ]
  },
  {
   "cell_type": "code",
   "execution_count": 151,
   "metadata": {
    "collapsed": false
   },
   "outputs": [
    {
     "name": "stdout",
     "output_type": "stream",
     "text": [
      "104095780017.0\n",
      "104095780017.0\n",
      "4.42407054768e+14\n",
      "4.42407054768e+14\n"
     ]
    }
   ],
   "source": [
    "print(test_spec.totN())\n",
    "print(np.dot(test_spec.eng*test_spec.log_bin_width,test_spec.dNdE))\n",
    "print(test_spec.toteng())\n",
    "print(np.dot(test_spec.eng**2*test_spec.log_bin_width,test_spec.dNdE))\n",
    "\n"
   ]
  },
  {
   "cell_type": "code",
   "execution_count": 83,
   "metadata": {
    "collapsed": false
   },
   "outputs": [
    {
     "name": "stdout",
     "output_type": "stream",
     "text": [
      "What 0\n",
      "905.879825118\n",
      "4.42407054768e+14\n"
     ]
    }
   ],
   "source": [
    "print(test_spec.totN('bin',np.array([1.5,2.5,3.5])))\n",
    "print(test_spec.toteng('bin',np.array([1.5,6.5])))"
   ]
  },
  {
   "cell_type": "code",
   "execution_count": 129,
   "metadata": {
    "collapsed": false
   },
   "outputs": [
    {
     "name": "stdout",
     "output_type": "stream",
     "text": [
      "7.6744358165e+12\n"
     ]
    }
   ],
   "source": [
    "test_spec_CMB = phys.CMB_spec(1.,1)\n",
    "print(test_spec_CMB)"
   ]
  },
  {
   "cell_type": "code",
   "execution_count": 40,
   "metadata": {
    "collapsed": false
   },
   "outputs": [
    {
     "ename": "AttributeError",
     "evalue": "'tuple' object has no attribute 'size'",
     "output_type": "error",
     "traceback": [
      "\u001b[0;31m---------------------------------------------------------------------------\u001b[0m",
      "\u001b[0;31mAttributeError\u001b[0m                            Traceback (most recent call last)",
      "\u001b[0;32m<ipython-input-40-b0c07df7cc47>\u001b[0m in \u001b[0;36m<module>\u001b[0;34m()\u001b[0m\n\u001b[1;32m      1\u001b[0m \u001b[0mp\u001b[0m \u001b[0;34m=\u001b[0m \u001b[0mnp\u001b[0m\u001b[0;34m.\u001b[0m\u001b[0mwhere\u001b[0m\u001b[0;34m(\u001b[0m\u001b[0mnp\u001b[0m\u001b[0;34m.\u001b[0m\u001b[0marray\u001b[0m\u001b[0;34m(\u001b[0m\u001b[0;34m[\u001b[0m\u001b[0;36m1\u001b[0m\u001b[0;34m,\u001b[0m\u001b[0;36m2\u001b[0m\u001b[0;34m,\u001b[0m\u001b[0;36m3\u001b[0m\u001b[0;34m,\u001b[0m\u001b[0;36m4\u001b[0m\u001b[0;34m]\u001b[0m\u001b[0;34m)\u001b[0m \u001b[0;34m<\u001b[0m \u001b[0;36m0\u001b[0m\u001b[0;34m)\u001b[0m\u001b[0;34m\u001b[0m\u001b[0m\n\u001b[1;32m      2\u001b[0m \u001b[0;34m\u001b[0m\u001b[0m\n\u001b[0;32m----> 3\u001b[0;31m \u001b[0mprint\u001b[0m\u001b[0;34m(\u001b[0m\u001b[0mp\u001b[0m\u001b[0;34m.\u001b[0m\u001b[0msize\u001b[0m\u001b[0;34m)\u001b[0m\u001b[0;34m\u001b[0m\u001b[0m\n\u001b[0m",
      "\u001b[0;31mAttributeError\u001b[0m: 'tuple' object has no attribute 'size'"
     ]
    }
   ],
   "source": [
    "p = np.where(np.array([1,2,3,4]) < 0)\n",
    "print(p.size)"
   ]
  },
  {
   "cell_type": "code",
   "execution_count": 23,
   "metadata": {
    "collapsed": false
   },
   "outputs": [
    {
     "name": "stdout",
     "output_type": "stream",
     "text": [
      "[ 1.  1.  1.  1.  1.]\n",
      "(array([0, 1, 2, 3, 4]),)\n"
     ]
    }
   ],
   "source": [
    "a = np.where((np.array([1,2,3,4,5]) > 3) | (np.array([1,2,3,4,5]) < 5), np.ones(5), np.zeros(5))\n",
    "print(a)\n",
    "b = np.where((np.array([1,2,3,4,5]) > 3) | (np.array([1,2,3,4,5]) < 5))\n",
    "print(b)"
   ]
  },
  {
   "cell_type": "code",
   "execution_count": 18,
   "metadata": {
    "collapsed": false
   },
   "outputs": [
    {
     "name": "stdout",
     "output_type": "stream",
     "text": [
      "[ 0.  0.  0.]\n"
     ]
    }
   ],
   "source": [
    "print(a[np.array([2,2,2])])"
   ]
  },
  {
   "cell_type": "code",
   "execution_count": 172,
   "metadata": {
    "collapsed": false
   },
   "outputs": [
    {
     "name": "stdout",
     "output_type": "stream",
     "text": [
      "[ 3.  1.  1.  0.  0.  0.]\n"
     ]
    }
   ],
   "source": [
    "print(np.insert(a,0,3))"
   ]
  },
  {
   "cell_type": "code",
   "execution_count": null,
   "metadata": {
    "collapsed": true
   },
   "outputs": [],
   "source": [
    "print(a[np])"
   ]
  }
 ],
 "metadata": {
  "anaconda-cloud": {},
  "kernelspec": {
   "display_name": "Python [default]",
   "language": "python",
   "name": "python3"
  },
  "language_info": {
   "codemirror_mode": {
    "name": "ipython",
    "version": 3
   },
   "file_extension": ".py",
   "mimetype": "text/x-python",
   "name": "python",
   "nbconvert_exporter": "python",
   "pygments_lexer": "ipython3",
   "version": "3.5.2"
  }
 },
 "nbformat": 4,
 "nbformat_minor": 1
}

{
 "cells": [
  {
   "cell_type": "code",
   "execution_count": 1,
   "metadata": {
    "collapsed": true
   },
   "outputs": [],
   "source": [
    "%load_ext autoreload"
   ]
  },
  {
   "cell_type": "code",
   "execution_count": 3,
   "metadata": {},
   "outputs": [
    {
     "ename": "ValueError",
     "evalue": "attempted relative import beyond top-level package",
     "output_type": "error",
     "traceback": [
      "\u001b[0;31m---------------------------------------------------------------------------\u001b[0m",
      "\u001b[0;31mValueError\u001b[0m                                Traceback (most recent call last)",
      "\u001b[0;32m<ipython-input-3-a2f869454c1b>\u001b[0m in \u001b[0;36m<module>\u001b[0;34m()\u001b[0m\n\u001b[1;32m      3\u001b[0m \u001b[0;34m\u001b[0m\u001b[0m\n\u001b[1;32m      4\u001b[0m \u001b[0;32mimport\u001b[0m \u001b[0mnumpy\u001b[0m \u001b[0;32mas\u001b[0m \u001b[0mnp\u001b[0m\u001b[0;34m\u001b[0m\u001b[0m\n\u001b[0;32m----> 5\u001b[0;31m \u001b[0;32mfrom\u001b[0m \u001b[0;34m.\u001b[0m\u001b[0;34m.\u001b[0m \u001b[0;32mimport\u001b[0m \u001b[0mphysics\u001b[0m \u001b[0;32mas\u001b[0m \u001b[0mphys\u001b[0m\u001b[0;34m\u001b[0m\u001b[0m\n\u001b[0m\u001b[1;32m      6\u001b[0m \u001b[0;32mfrom\u001b[0m \u001b[0;34m.\u001b[0m\u001b[0;34m.\u001b[0m \u001b[0;32mimport\u001b[0m \u001b[0mutilities\u001b[0m \u001b[0;32mas\u001b[0m \u001b[0mutils\u001b[0m\u001b[0;34m\u001b[0m\u001b[0m\n\u001b[1;32m      7\u001b[0m \u001b[0;32mfrom\u001b[0m \u001b[0;34m.\u001b[0m\u001b[0;34m.\u001b[0m \u001b[0;32mimport\u001b[0m \u001b[0mspectrum\u001b[0m\u001b[0;34m\u001b[0m\u001b[0m\n",
      "\u001b[0;31mValueError\u001b[0m: attempted relative import beyond top-level package"
     ]
    }
   ],
   "source": [
    "%autoreload\n",
    "%matplotlib inline\n",
    "\n",
    "import numpy as np\n",
    "from .. import physics as phys\n",
    "from .. import utilities as utils\n",
    "from .. import spectrum\n",
    "import transferfunction as tf\n",
    "import matplotlib\n",
    "import matplotlib.pyplot as plt\n",
    "import pickle\n",
    "\n",
    "matplotlib.rcParams['figure.figsize'] = [10,10]\n",
    "\n",
    "\n",
    "from scipy import integrate\n",
    "from astropy.io import fits\n",
    "from tqdm import tqdm_notebook as tqdm"
   ]
  },
  {
   "cell_type": "code",
   "execution_count": null,
   "metadata": {
    "collapsed": true
   },
   "outputs": [],
   "source": [
    "transfer_func_table = pickle.load(open(\n",
    "    \"/Users/hongwan/Dropbox (MIT)/Photon Deposition/transfer_func_table.raw\", \"rb\")\n",
    ")"
   ]
  },
  {
   "cell_type": "code",
   "execution_count": null,
   "metadata": {
    "collapsed": true
   },
   "outputs": [],
   "source": [
    "eng = np.array([transfer_func.in_eng \n",
    "                for transfer_func in transfer_func_table])\n",
    "tf_rs_arr = np.array([spec.rs for spec in transfer_func_table[0]])"
   ]
  },
  {
   "cell_type": "code",
   "execution_count": null,
   "metadata": {
    "collapsed": true
   },
   "outputs": [],
   "source": [
    "# Transfer function is normalized to 1 particle in the bin.\n",
    "# To use the transfer function on dN/dE, need to further normalize.\n",
    "norm_spec = spectrum.rebin_N_arr(np.ones(eng.size), eng, eng)"
   ]
  },
  {
   "cell_type": "code",
   "execution_count": null,
   "metadata": {},
   "outputs": [],
   "source": [
    "#Initialize\n",
    "eng_ind = 298\n",
    "mwimp = eng[eng_ind]\n",
    "print(mwimp)\n",
    "\n",
    "rs_list = np.exp(np.arange(np.log(tf_rs_arr[0]), \n",
    "                           np.log(tf_rs_arr[20]), \n",
    "                           -0.002)\n",
    "                )\n",
    "\n",
    "# Initial injection is 2 photons, to match up with what we have in file.\n",
    "photon_spec_init = spectrum.rebin_N_arr(np.array([2]), \n",
    "                                        np.array([mwimp]), \n",
    "                                        eng)\n",
    "                                       \n",
    "photon_spec_init.rs = rs_list[0]"
   ]
  },
  {
   "cell_type": "code",
   "execution_count": null,
   "metadata": {},
   "outputs": [],
   "source": [
    "print(np.log(tf_rs_arr[0]))\n",
    "print(np.log(tf_rs_arr[1]))"
   ]
  },
  {
   "cell_type": "code",
   "execution_count": null,
   "metadata": {},
   "outputs": [],
   "source": [
    "photon_spectra = spectrum.Spectra([photon_spec_init])\n",
    "append = photon_spectra.append\n",
    "\n",
    "# List of transfer functions interpolated at rs_list, indexed by injection energy.\n",
    "# Perform the normalization properly. \n",
    "tf_at_rs_list = [transfer_func.at_rs(rs_list)/norm_spec.dNdE[i]\n",
    "                 for i,transfer_func in \n",
    "                 zip(np.arange(norm_spec.length), tqdm(transfer_func_table))]\n"
   ]
  },
  {
   "cell_type": "code",
   "execution_count": null,
   "metadata": {},
   "outputs": [],
   "source": [
    "for i in tqdm(np.arange(rs_list.size-1).astype(int)):\n",
    "    tf_at_rs = spectrum.Spectra([transfer_func[i]\n",
    "                             for transfer_func in tf_at_rs_list])\n",
    "    append(tf_at_rs.sum_specs(photon_spectra[-1]))\n",
    "    photon_spectra[-1].rs = rs_list[i+1]\n"
   ]
  },
  {
   "cell_type": "code",
   "execution_count": null,
   "metadata": {
    "collapsed": true
   },
   "outputs": [],
   "source": [
    "file_name = {99: \"/Users/hongwan/Dropbox (MIT)/Photon Deposition/tf_z_3.100E+01_nstep_2049_logE_5.328E+00_xe_1.000E-04.fits\",\n",
    "            199: \"/Users/hongwan/Dropbox (MIT)/Photon Deposition/tf_z_3.100E+01_nstep_2049_logE_7.183E+00_xe_1.000E-04.fits\",\n",
    "            298: \"/Users/hongwan/Dropbox (MIT)/Photon Deposition/tf_z_3.100E+01_nstep_2049_logE_9.020E+00_xe_1.000E-04.fits\",\n",
    "            299: \"/Users/hongwan/Dropbox (MIT)/Photon Deposition/tf_z_3.100E+01_nstep_2049_logE_9.038E+00_xe_1.000E-04.fits\", \n",
    "            399: \"/Users/hongwan/Dropbox (MIT)/Photon Deposition/tf_z_3.100E+01_nstep_2049_logE_1.089E+01_xe_1.000E-04.fits\",\n",
    "            499: \"/Users/hongwan/Dropbox (MIT)/Photon Deposition/tf_z_3.100E+01_nstep_2049_logE_1.275E+01_xe_1.000E-04.fits\"}\n",
    "\n",
    "file = fits.open(file_name[eng_ind])\n",
    "\n",
    "file_eng = file[1].data['energy'][0,:]\n",
    "file_rs = file[1].data['redshift'][0,:]\n",
    "file_photonspectrum = file[1].data['photonspectrum'][0,:,:]"
   ]
  },
  {
   "cell_type": "code",
   "execution_count": null,
   "metadata": {
    "collapsed": true
   },
   "outputs": [],
   "source": [
    "# file_spectra = spectrum.Spectra([spectrum.Spectrum(file_eng, photspec, rs) \n",
    "#                    for photspec,rs in zip(file_photonspectrum, file_rs)], \n",
    "#                 rebin_eng = eng)\n",
    "\n",
    "file_spectra = spectrum.Spectra([spectrum.Spectrum(file_eng, photspec, rs) \n",
    "                   for photspec,rs in zip(file_photonspectrum, file_rs)])"
   ]
  },
  {
   "cell_type": "code",
   "execution_count": null,
   "metadata": {
    "collapsed": true
   },
   "outputs": [],
   "source": [
    "file_spectra.rebin(photon_spectra.eng)"
   ]
  },
  {
   "cell_type": "code",
   "execution_count": null,
   "metadata": {},
   "outputs": [],
   "source": [
    "i=14\n",
    "j=6\n",
    "print(photon_spectra[i].rs)\n",
    "print(file_spectra[j].rs)\n",
    "\n",
    "ax = plt.subplot(1,1,1)\n",
    "plt.plot(photon_spectra.eng, photon_spectra[i].dNdE)\n",
    "plt.plot(photon_spectra.eng, file_spectra[j].dNdE)\n",
    "# plt.plot(file_spectra[j].eng, file_spectra[j].dNdE)\n",
    "\n",
    "# plt.plot(photon_spectra.eng, photon_spectra[i].totN('bin',np.arange(501)))\n",
    "# plt.plot(file_spectra[j].eng, file_spectra[j].totN('bin',np.arange(501)))\n",
    "ax.set_xscale('log')\n",
    "ax.set_yscale('log')\n",
    "plt.axis([1e8, 1e11, 1e-18, 1e-8])\n",
    "# b = file_spectra.plot(2)\n",
    "# axb = b.add_subplot(1,1,1)\n",
    "# axb.set_xscale('log')\n",
    "# axb.set_yscale('log')\n"
   ]
  },
  {
   "cell_type": "code",
   "execution_count": null,
   "metadata": {},
   "outputs": [],
   "source": [
    "np.set_printoptions(threshold=np.nan)\n",
    "print(eng[eng_ind])\n",
    "utils.compare_arr([photon_spectra[i].eng,\n",
    "                   photon_spectra[i].dNdE,\n",
    "#                    file_spectra[j].eng,\n",
    "                   file_spectra[j].dNdE, \n",
    "                   ])"
   ]
  },
  {
   "cell_type": "code",
   "execution_count": null,
   "metadata": {},
   "outputs": [],
   "source": [
    "np.set_printoptions(threshold=np.nan)\n",
    "print(eng[eng_ind])\n",
    "utils.compare_arr([photon_spectra[i].eng,\n",
    "                   photon_spectra[i].totN('eng', photon_spectra[i].bin_boundary),\n",
    "                   file_spectra[j].totN('eng', photon_spectra[i].bin_boundary) \n",
    "                   ])"
   ]
  },
  {
   "cell_type": "code",
   "execution_count": null,
   "metadata": {
    "collapsed": true
   },
   "outputs": [],
   "source": [
    "tf_rs_31 = spectrum.Spectra([transfer_func[0] for transfer_func in tf_at_rs_list])"
   ]
  },
  {
   "cell_type": "code",
   "execution_count": null,
   "metadata": {},
   "outputs": [],
   "source": [
    "a_fig = tf_rs_31.plot((106, 399),step=50)\n",
    "a = a_fig.get_axes()[0]\n",
    "a.set_xscale('log')\n",
    "a.set_yscale('log')\n",
    "plt.axis([1e3, 2e11, 1e-20, 1e3])"
   ]
  },
  {
   "cell_type": "code",
   "execution_count": null,
   "metadata": {
    "collapsed": true
   },
   "outputs": [],
   "source": []
  }
 ],
 "metadata": {
  "anaconda-cloud": {},
  "kernelspec": {
   "display_name": "Python 3",
   "language": "python",
   "name": "python3"
  },
  "language_info": {
   "codemirror_mode": {
    "name": "ipython",
    "version": 3
   },
   "file_extension": ".py",
   "mimetype": "text/x-python",
   "name": "python",
   "nbconvert_exporter": "python",
   "pygments_lexer": "ipython3",
   "version": "3.6.1"
  }
 },
 "nbformat": 4,
 "nbformat_minor": 1
}

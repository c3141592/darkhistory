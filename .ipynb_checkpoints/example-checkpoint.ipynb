{
 "cells": [
  {
   "cell_type": "code",
   "execution_count": 19,
   "metadata": {
    "collapsed": true
   },
   "outputs": [],
   "source": [
    "%load_ext autoreload"
   ]
  },
  {
   "cell_type": "code",
   "execution_count": 74,
   "metadata": {},
   "outputs": [],
   "source": [
    "%autoreload\n",
    "\n",
    "import numpy as np\n",
    "import physics as phys\n",
    "import utilities as utils\n",
    "import spectrum as spec"
   ]
  },
  {
   "cell_type": "code",
   "execution_count": 55,
   "metadata": {},
   "outputs": [],
   "source": [
    "eng = np.array([0.1, 2, 4.5, 10, 367, 4250])\n",
    "dNdE = np.array([0.004, 0.3, 500, 28, 1e-5, 1e7])\n",
    "rs = 200\n",
    "test_spec = spec.Spectrum(eng,dNdE,rs)"
   ]
  },
  {
   "cell_type": "code",
   "execution_count": 56,
   "metadata": {},
   "outputs": [
    {
     "name": "stdout",
     "output_type": "stream",
     "text": [
      "[-2.30258509  0.69314718  1.5040774   2.30258509  5.90536185  8.35467426]\n",
      "[ 2.99573227  1.90333124  0.80471896  2.20064223  3.02604458  2.44931241]\n",
      "[-3.80045123 -0.80471896  1.09861229  1.90333124  4.10397347  7.13001805\n",
      "  9.57933047]\n"
     ]
    }
   ],
   "source": [
    "print(np.log(test_spec.eng))\n",
    "print(test_spec.log_bin_width)\n",
    "print(np.log(test_spec.bin_boundary))"
   ]
  },
  {
   "cell_type": "code",
   "execution_count": 79,
   "metadata": {},
   "outputs": [
    {
     "name": "stdout",
     "output_type": "stream",
     "text": [
      "104095780017.0\n",
      "104095780017.0\n",
      "4.42407054768e+14\n",
      "4.42407054768e+14\n",
      "2427.37402683\n",
      "4.42407054768e+14\n"
     ]
    }
   ],
   "source": [
    "print(test_spec.totN())\n",
    "print(np.dot(test_spec.eng*test_spec.log_bin_width,test_spec.dNdE))\n",
    "print(test_spec.toteng())\n",
    "print(np.dot(test_spec.eng**2*test_spec.log_bin_width,test_spec.dNdE))\n",
    "\n",
    "print(test_spec.totN('bin',np.array([1.5,4.5])))\n",
    "print(test_spec.toteng('bin',np.array([1.5,6.5])))"
   ]
  },
  {
   "cell_type": "code",
   "execution_count": null,
   "metadata": {
    "collapsed": true
   },
   "outputs": [],
   "source": []
  }
 ],
 "metadata": {
  "anaconda-cloud": {},
  "kernelspec": {
   "display_name": "Python 3",
   "language": "python",
   "name": "python3"
  },
  "language_info": {
   "codemirror_mode": {
    "name": "ipython",
    "version": 3
   },
   "file_extension": ".py",
   "mimetype": "text/x-python",
   "name": "python",
   "nbconvert_exporter": "python",
   "pygments_lexer": "ipython3",
   "version": "3.6.1"
  }
 },
 "nbformat": 4,
 "nbformat_minor": 1
}

{
 "cells": [
  {
   "cell_type": "code",
   "execution_count": 19,
   "metadata": {
    "collapsed": true
   },
   "outputs": [],
   "source": [
    "%load_ext autoreload"
   ]
  },
  {
   "cell_type": "code",
   "execution_count": 201,
   "metadata": {},
   "outputs": [],
   "source": [
    "%autoreload\n",
    "\n",
    "import numpy as np\n",
    "import physics as phys\n",
    "import utilities as utils\n",
    "import spectrum as spec\n",
    "\n",
    "from scipy import integrate"
   ]
  },
  {
   "cell_type": "code",
   "execution_count": 202,
   "metadata": {},
   "outputs": [
    {
     "data": {
      "text/plain": [
       "3155.24"
      ]
     },
     "execution_count": 202,
     "metadata": {},
     "output_type": "execute_result"
    }
   ],
   "source": [
    "10*(0.284 + 2.84 + 28.4 + 284)"
   ]
  },
  {
   "cell_type": "code",
   "execution_count": 204,
   "metadata": {},
   "outputs": [
    {
     "name": "stdout",
     "output_type": "stream",
     "text": [
      "initial total N:  9244.87914837\n",
      "initial total eng:  713833.845278\n",
      "initial log bin width:  [ 2.30258509  2.30258509  2.30258509  2.30258509]\n",
      "initial N in each bin:  [  2.30258509e+00   3.22361913e+01   2.30258509e+03   6.90775528e+03]\n",
      "initial eng in each bin:  [  2.30258509e-01   3.22361913e+01   2.30258509e+04   6.90775528e+05]\n",
      "N_above_underflow 0.69314718056\n",
      "eng_above_underflow 0.34657359028\n",
      "reg_bin_low:  [0 1 2]\n",
      "reg_dNdE_low:  [  19.57116012  139.79400087   41.93820026]\n",
      "reg_bin_upp:  [1 2 3]\n",
      "reg_dNdE_upp:  [ 0.84288399  6.02059991  1.80617997]\n",
      "high_dNdE_low:  0.0\n",
      "high_dNdE_upp:  0.0\n",
      "low_dNdE:  0.602059991328\n",
      "[   0.5    5.    50.   500. ]\n",
      "[  20.17322011  140.63688486   47.95880017    1.80617997]\n",
      "1.60943791243\n",
      "0.183616220768\n",
      "final total N:  9244.87914837\n",
      "final total eng:  1323901.32285\n",
      "final N in each bin:  [   23.22527795  1619.14197296  5521.46091786  2079.44154168]\n",
      "final eng in each bin:  [  1.16126390e+01   8.09570986e+03   2.76073046e+05   1.03972077e+06]\n"
     ]
    }
   ],
   "source": [
    "def CMB_spec_at1eV(eng):\n",
    "    return phys.CMB_spec(eng,1)\n",
    "    \n",
    "eng_test = np.array([1/10, 1., 10., 100])\n",
    "test = spec.Spectrum(eng_test, np.array([10., 14., 100., 30.]), 1000.)\n",
    "print('initial total N: ', test.totN())\n",
    "print('initial total eng: ', test.toteng())\n",
    "print('initial abscissa: ', test.eng)\n",
    "print('initial N in each bin: ', test.totN('bin', np.array([0,1,2,3,4])))\n",
    "print('initial eng in each bin: ', test.toteng('bin', np.array([0,1,2,3,4])))\n",
    "test.rebin(eng_test*5)\n",
    "print(test.eng)\n",
    "print(test.dNdE)\n",
    "print(test.underflow['N'])\n",
    "print(test.underflow['eng'])\n",
    "print('final total N: ', test.totN())\n",
    "print('final total eng: ', test.toteng())\n",
    "print('final N in each bin: ', test.totN('bin', np.array([0,1,2,3,4])))\n",
    "print('final eng in each bin: ', test.toteng('bin', np.array([0,1,2,3,4])))"
   ]
  },
  {
   "cell_type": "code",
   "execution_count": 200,
   "metadata": {},
   "outputs": [
    {
     "data": {
      "text/plain": [
       "920710.2633795"
      ]
     },
     "execution_count": 200,
     "metadata": {},
     "output_type": "execute_result"
    }
   ],
   "source": [
    "1819.58550075*506"
   ]
  },
  {
   "cell_type": "code",
   "execution_count": 171,
   "metadata": {},
   "outputs": [
    {
     "name": "stdout",
     "output_type": "stream",
     "text": [
      "[  1.19829291e-03   1.14199875e+00   1.81061765e+03   6.16179823e+02\n",
      "   1.11055836e-02   1.04095778e+11]\n",
      "104095780017.0\n",
      "104095780017.0\n",
      "[  1.19829291e-04   2.28399749e+00   8.14777943e+03   6.16179823e+03\n",
      "   4.07574919e+00   4.42407055e+14]\n",
      "4.42407054768e+14\n",
      "4.42407054768e+14\n"
     ]
    }
   ],
   "source": [
    "eng = np.array([0.1, 2, 4.5, 10, 367, 4250])\n",
    "dNdE = np.array([0.004, 0.3, 500, 28, 1e-5, 1e7])\n",
    "rs = 200\n",
    "test_spec = spec.Spectrum(eng,dNdE,rs)\n",
    "\n",
    "N_in_bin = test_spec.totN('bin',np.array([0, 1, 2, 3, 4, 5, 6]))\n",
    "eng_in_bin = test_spec.toteng('bin',np.array([0, 1, 2, 3, 4, 5, 6]))\n",
    "print(N_in_bin)\n",
    "print(test_spec.totN())\n",
    "print(np.sum(N_in_bin))\n",
    "\n",
    "print(eng_in_bin)\n",
    "print(test_spec.toteng())\n",
    "print(np.sum(eng_in_bin))"
   ]
  },
  {
   "cell_type": "code",
   "execution_count": 69,
   "metadata": {},
   "outputs": [],
   "source": [
    "eng = np.array([0.1, 2, 4.5, 10, 367, 4250])\n",
    "dNdE = np.array([0.004, 0.3, 500, 28, 1e-5, 1e7])\n",
    "rs = 200\n",
    "test_spec = spec.Spectrum(eng,dNdE,rs)"
   ]
  },
  {
   "cell_type": "code",
   "execution_count": 70,
   "metadata": {},
   "outputs": [
    {
     "name": "stdout",
     "output_type": "stream",
     "text": [
      "[-2.30258509  0.69314718  1.5040774   2.30258509  5.90536185  8.35467426]\n",
      "[ 2.99573227  1.90333124  0.80471896  2.20064223  3.02604458  2.44931241]\n",
      "[-3.80045123 -0.80471896  1.09861229  1.90333124  4.10397347  7.13001805\n",
      "  9.57933047]\n"
     ]
    }
   ],
   "source": [
    "print(np.log(test_spec.eng))\n",
    "print(test_spec.log_bin_width)\n",
    "print(np.log(test_spec.bin_boundary))"
   ]
  },
  {
   "cell_type": "code",
   "execution_count": 151,
   "metadata": {},
   "outputs": [
    {
     "name": "stdout",
     "output_type": "stream",
     "text": [
      "104095780017.0\n",
      "104095780017.0\n",
      "4.42407054768e+14\n",
      "4.42407054768e+14\n"
     ]
    }
   ],
   "source": [
    "print(test_spec.totN())\n",
    "print(np.dot(test_spec.eng*test_spec.log_bin_width,test_spec.dNdE))\n",
    "print(test_spec.toteng())\n",
    "print(np.dot(test_spec.eng**2*test_spec.log_bin_width,test_spec.dNdE))\n",
    "\n"
   ]
  },
  {
   "cell_type": "code",
   "execution_count": 83,
   "metadata": {},
   "outputs": [
    {
     "name": "stdout",
     "output_type": "stream",
     "text": [
      "What 0\n",
      "905.879825118\n",
      "4.42407054768e+14\n"
     ]
    }
   ],
   "source": [
    "print(test_spec.totN('bin',np.array([1.5,2.5,3.5])))\n",
    "print(test_spec.toteng('bin',np.array([1.5,6.5])))"
   ]
  },
  {
   "cell_type": "code",
   "execution_count": 129,
   "metadata": {},
   "outputs": [
    {
     "name": "stdout",
     "output_type": "stream",
     "text": [
      "7.6744358165e+12\n"
     ]
    }
   ],
   "source": [
    "test_spec_CMB = phys.CMB_spec(1.,1)\n",
    "print(test_spec_CMB)"
   ]
  },
  {
   "cell_type": "code",
   "execution_count": 40,
   "metadata": {},
   "outputs": [
    {
     "ename": "AttributeError",
     "evalue": "'tuple' object has no attribute 'size'",
     "output_type": "error",
     "traceback": [
      "\u001b[0;31m---------------------------------------------------------------------------\u001b[0m",
      "\u001b[0;31mAttributeError\u001b[0m                            Traceback (most recent call last)",
      "\u001b[0;32m<ipython-input-40-b0c07df7cc47>\u001b[0m in \u001b[0;36m<module>\u001b[0;34m()\u001b[0m\n\u001b[1;32m      1\u001b[0m \u001b[0mp\u001b[0m \u001b[0;34m=\u001b[0m \u001b[0mnp\u001b[0m\u001b[0;34m.\u001b[0m\u001b[0mwhere\u001b[0m\u001b[0;34m(\u001b[0m\u001b[0mnp\u001b[0m\u001b[0;34m.\u001b[0m\u001b[0marray\u001b[0m\u001b[0;34m(\u001b[0m\u001b[0;34m[\u001b[0m\u001b[0;36m1\u001b[0m\u001b[0;34m,\u001b[0m\u001b[0;36m2\u001b[0m\u001b[0;34m,\u001b[0m\u001b[0;36m3\u001b[0m\u001b[0;34m,\u001b[0m\u001b[0;36m4\u001b[0m\u001b[0;34m]\u001b[0m\u001b[0;34m)\u001b[0m \u001b[0;34m<\u001b[0m \u001b[0;36m0\u001b[0m\u001b[0;34m)\u001b[0m\u001b[0;34m\u001b[0m\u001b[0m\n\u001b[1;32m      2\u001b[0m \u001b[0;34m\u001b[0m\u001b[0m\n\u001b[0;32m----> 3\u001b[0;31m \u001b[0mprint\u001b[0m\u001b[0;34m(\u001b[0m\u001b[0mp\u001b[0m\u001b[0;34m.\u001b[0m\u001b[0msize\u001b[0m\u001b[0;34m)\u001b[0m\u001b[0;34m\u001b[0m\u001b[0m\n\u001b[0m",
      "\u001b[0;31mAttributeError\u001b[0m: 'tuple' object has no attribute 'size'"
     ]
    }
   ],
   "source": [
    "p = np.where(np.array([1,2,3,4]) < 0)\n",
    "print(p.size)"
   ]
  },
  {
   "cell_type": "code",
   "execution_count": 23,
   "metadata": {},
   "outputs": [
    {
     "name": "stdout",
     "output_type": "stream",
     "text": [
      "[ 1.  1.  1.  1.  1.]\n",
      "(array([0, 1, 2, 3, 4]),)\n"
     ]
    }
   ],
   "source": [
    "a = np.where((np.array([1,2,3,4,5]) > 3) | (np.array([1,2,3,4,5]) < 5), np.ones(5), np.zeros(5))\n",
    "print(a)\n",
    "b = np.where((np.array([1,2,3,4,5]) > 3) | (np.array([1,2,3,4,5]) < 5))\n",
    "print(b)"
   ]
  },
  {
   "cell_type": "code",
   "execution_count": 18,
   "metadata": {},
   "outputs": [
    {
     "name": "stdout",
     "output_type": "stream",
     "text": [
      "[ 0.  0.  0.]\n"
     ]
    }
   ],
   "source": [
    "print(a[np.array([2,2,2])])"
   ]
  },
  {
   "cell_type": "code",
   "execution_count": 172,
   "metadata": {},
   "outputs": [
    {
     "name": "stdout",
     "output_type": "stream",
     "text": [
      "[ 3.  1.  1.  0.  0.  0.]\n"
     ]
    }
   ],
   "source": [
    "print(np.insert(a,0,3))"
   ]
  },
  {
   "cell_type": "code",
   "execution_count": null,
   "metadata": {
    "collapsed": true
   },
   "outputs": [],
   "source": [
    "print(a[np])"
   ]
  }
 ],
 "metadata": {
  "anaconda-cloud": {},
  "kernelspec": {
   "display_name": "Python 3",
   "language": "python",
   "name": "python3"
  },
  "language_info": {
   "codemirror_mode": {
    "name": "ipython",
    "version": 3
   },
   "file_extension": ".py",
   "mimetype": "text/x-python",
   "name": "python",
   "nbconvert_exporter": "python",
   "pygments_lexer": "ipython3",
   "version": "3.6.1"
  }
 },
 "nbformat": 4,
 "nbformat_minor": 1
}

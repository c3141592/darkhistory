{
 "cells": [
  {
   "cell_type": "code",
   "execution_count": 5,
   "metadata": {
    "collapsed": false
   },
   "outputs": [
    {
     "name": "stdout",
     "output_type": "stream",
     "text": [
      "The autoreload extension is already loaded. To reload it, use:\n",
      "  %reload_ext autoreload\n"
     ]
    }
   ],
   "source": [
    "%load_ext autoreload"
   ]
  },
  {
   "cell_type": "code",
   "execution_count": 95,
   "metadata": {
    "collapsed": true
   },
   "outputs": [],
   "source": [
    "%autoreload\n",
    "%matplotlib inline\n",
    "\n",
    "import numpy as np\n",
    "import physics as phys\n",
    "import utilities as utils\n",
    "import spectrum as spec\n",
    "import matplotlib.pyplot as plt\n",
    "\n",
    "from scipy import integrate"
   ]
  },
  {
   "cell_type": "code",
   "execution_count": 27,
   "metadata": {
    "collapsed": false
   },
   "outputs": [
    {
     "name": "stdout",
     "output_type": "stream",
     "text": [
      "initial total N:  396686.697945\n",
      "initial total eng:  90974348.553\n",
      "initial abscissa:  [  1.00000000e-01   1.20000000e+00   3.65400000e+01   2.30122000e+02\n",
      "   5.10000000e+02]\n",
      "initial dN/dE:  [  1.00000000e+01   1.52000000e+01   1.67000000e+01   1.30229000e+03\n",
      "   1.00000000e-01]\n",
      "initial N in each bin:  [  2.48490665e+00   5.38170529e+01   1.60374079e+03   3.94986069e+05]\n",
      "initial eng in each bin:  [  2.48490665e-01   6.45804635e+01   5.86006884e+04   9.08949842e+07]\n",
      "**********************************************************\n",
      "final total N:  396686.697945\n",
      "final total eng:  90974348.553\n",
      "final total eng/initial total eng:  1.0\n",
      "final abscissa:  [  1.00000000e-01   5.20000000e-01   5.00000000e+00   2.10400000e+02\n",
      "   4.01200000e+03]\n",
      "final dN/dE:  [  1.40540352e+02   2.07092487e+01   9.11410742e+01   5.58920148e+02\n",
      "   1.73520256e-01]\n",
      "final N in each bin:  [  2.31703064e+01   2.10639149e+01   1.36778530e+03   3.93220603e+05]\n",
      "final eng in each bin:  [  2.31703064e+00   1.09532358e+01   6.83892652e+03   8.27336148e+07]\n",
      "N underflow:  1.76234514169\n",
      "eng underflow:  0.0317222125505\n",
      "**********************************************************\n",
      "final total N:  396686.697945\n",
      "final total eng:  454871.742765\n",
      "final total eng/initial total eng:  0.005\n",
      "final abscissa:  [  1.00000000e-01   5.20000000e-01   5.00000000e+00   2.10400000e+02\n",
      "   4.01200000e+03]\n",
      "final dN/dE:  [  5.92596604e+02   3.40690989e+05   3.23820051e+03   2.13885687e-01\n",
      "   0.00000000e+00]\n",
      "final N in each bin:  [  9.76989503e+01   3.46525656e+05   4.85967837e+04   1.50476341e+02]\n",
      "final eng in each bin:  [  9.76989503e+00   1.80193341e+05   2.42983918e+05   3.16602221e+04]\n",
      "N underflow:  1316.08292002\n",
      "eng underflow:  24.4912475117\n",
      "**********************************************************\n",
      "final total N:  396686.697945\n",
      "final total eng:  270648.686945\n",
      "final total eng/initial total eng:  0.002975\n",
      "final abscissa:  [  1.00000000e-01   5.20000000e-01   5.00000000e+00   2.10400000e+02\n",
      "   4.01200000e+03]\n",
      "final dN/dE:  [  1.05423022e+06   1.91455115e+05   1.77866469e+03   1.25153325e-01\n",
      "   0.00000000e+00]\n",
      "final N in each bin:  [  1.73806575e+05   1.94733971e+05   2.66930300e+04   8.80499049e+01]\n",
      "final eng in each bin:  [  17380.65745918  101261.66517973  133465.14992034   18525.69999674]\n",
      "N underflow:  1365.07196509\n",
      "eng underflow:  15.51438929\n"
     ]
    }
   ],
   "source": [
    "eng_test = np.array([0.1, 1.2, 36.54, 230.122, 510])\n",
    "test = spec.Spectrum(eng_test, np.array([10., 15.2, 16.7, 1302.29, 0.1]), 1000.)\n",
    "init_toteng = test.toteng()\n",
    "print('initial total N: ', test.totN())\n",
    "print('initial total eng: ', test.toteng())\n",
    "print('initial abscissa: ', test.eng)\n",
    "print('initial dN/dE: ', test.dNdE)\n",
    "print('initial N in each bin: ', test.totN('bin', np.array([0,1,2,3,4])))\n",
    "print('initial eng in each bin: ', test.toteng('bin', np.array([0,1,2,3,4])))\n",
    "test.rebin(np.array([0.3, 5, 50, 210.4, 3050]))\n",
    "test.rebin(np.array([0.1, 0.52, 5, 210.4, 4012]))\n",
    "print('**********************************************************')\n",
    "# test.redshift(20)\n",
    "print('final total N: ', test.totN())\n",
    "print('final total eng: ', test.toteng())\n",
    "print('final total eng/initial total eng: ', test.toteng()/init_toteng)\n",
    "print('final abscissa: ', test.eng)\n",
    "print('final dN/dE: ', test.dNdE)\n",
    "print('final N in each bin: ', test.totN('bin', np.array([0,1,2,3,4])))\n",
    "print('final eng in each bin: ', test.toteng('bin', np.array([0,1,2,3,4])))\n",
    "print('N underflow: ', test.underflow['N'])\n",
    "print('eng underflow: ', test.underflow['eng'])\n",
    "print('**********************************************************')\n",
    "test.redshift(5)\n",
    "print('final total N: ', test.totN())\n",
    "print('final total eng: ', test.toteng())\n",
    "print('final total eng/initial total eng: ', test.toteng()/init_toteng)\n",
    "print('final abscissa: ', test.eng)\n",
    "print('final dN/dE: ', test.dNdE)\n",
    "print('final N in each bin: ', test.totN('bin', np.array([0,1,2,3,4])))\n",
    "print('final eng in each bin: ', test.toteng('bin', np.array([0,1,2,3,4])))\n",
    "print('N underflow: ', test.underflow['N'])\n",
    "print('eng underflow: ', test.underflow['eng'])\n",
    "print('**********************************************************')\n",
    "test.redshift(2.975)\n",
    "print('final total N: ', test.totN())\n",
    "print('final total eng: ', test.toteng())\n",
    "print('final total eng/initial total eng: ', test.toteng()/init_toteng)\n",
    "print('final abscissa: ', test.eng)\n",
    "print('final dN/dE: ', test.dNdE)\n",
    "print('final N in each bin: ', test.totN('bin', np.array([0,1,2,3,4])))\n",
    "print('final eng in each bin: ', test.toteng('bin', np.array([0,1,2,3,4])))\n",
    "print('N underflow: ', test.underflow['N'])\n",
    "print('eng underflow: ', test.underflow['eng'])"
   ]
  },
  {
   "cell_type": "code",
   "execution_count": 134,
   "metadata": {
    "collapsed": false
   },
   "outputs": [
    {
     "name": "stdout",
     "output_type": "stream",
     "text": [
      "Abscissa:  [  0.03162278   0.03981072   0.05011872   0.06309573   0.07943282   0.1\n",
      "   0.12589254   0.15848932   0.19952623   0.25118864   0.31622777\n",
      "   0.39810717   0.50118723   0.63095734   0.79432823   1.           1.25892541\n",
      "   1.58489319   1.99526231   2.51188643   3.16227766   3.98107171\n",
      "   5.01187234   6.30957344   7.94328235  10.          12.58925412\n",
      "  15.84893192  19.95262315  25.11886432]\n",
      "Exact dn/dE spectrum:  [  6.18936659e+11   7.77062904e+11   9.74891951e+11   1.22198550e+12\n",
      "   1.52996781e+12   1.91282487e+12   2.38715075e+12   2.97225753e+12\n",
      "   3.69001052e+12   4.56416678e+12   5.61887674e+12   6.87584847e+12\n",
      "   8.34948185e+12   1.00390963e+13   1.19173217e+13   1.39140761e+13\n",
      "   1.58968656e+13   1.76513605e+13   1.88725175e+13   1.91862593e+13\n",
      "   1.82307807e+13   1.58194162e+13   1.21535924e+13   7.94057576e+12\n",
      "   4.19283808e+12   1.68034075e+12   4.73452954e+11   8.53918191e+10\n",
      "   8.77537113e+09   4.44104087e+08]\n",
      "Discretized dN/dE spectrum:  [  3.77673152e+11   7.97580962e+11   1.00054146e+12   1.25399042e+12\n",
      "   1.56980904e+12   1.96227299e+12   2.44828864e+12   3.04748087e+12\n",
      "   3.78198621e+12   4.67571896e+12   5.75275506e+12   7.03431596e+12\n",
      "   8.53364235e+12   1.02478765e+13   1.21460547e+13   1.41527509e+13\n",
      "   1.61284012e+13   1.78508324e+13   1.90091343e+13   1.92306474e+13\n",
      "   1.81692819e+13   1.56717729e+13   1.19795494e+13   7.81523290e+12\n",
      "   4.15460333e+12   1.70305848e+12   5.04520128e+11   1.00083572e+11\n",
      "   1.21412968e+10   7.09995645e+08]\n",
      "Exact total number in spectrum:  106985949342193.81\n",
      "Exact total energy in spectrum:  433504659618308.7\n",
      "Total number in discretized spectrum:  1.06985949342e+14\n",
      "Total energy in discretized spectrum:  4.33504659618e+14\n",
      "Ratio of total number:  1.0\n",
      "Ratio of total energy:  1.0\n",
      "Redshifting the discrete spectrum from T_start =  1.5  eV to T_end =  0.1292  eV.\n",
      "Ratio of total number in the analytic, redshifted spectrum to the redshifted discrete spectrum: \n",
      "1.0\n",
      "Ratio of total energy in the analytic, redshifted spectrum to the redshifted discrete spectrum: \n",
      "1.0\n"
     ]
    },
    {
     "data": {
      "image/png": "[encoded data removed]",
      "text/plain": [
       "<matplotlib.figure.Figure at 0x111f1cda0>"
      ]
     },
     "metadata": {},
     "output_type": "display_data"
    }
   ],
   "source": [
    "T_start = 1.5\n",
    "T_end = 0.1292\n",
    "fac = T_start/T_end\n",
    "\n",
    "def CMB_dndE_start(eng):\n",
    "    return phys.CMB_spec(eng,T_start)\n",
    "\n",
    "def CMB_dndE_end(eng):\n",
    "    return phys.CMB_spec(eng,T_end)\n",
    "\n",
    "def CMB_EdndE_start(eng):\n",
    "    return eng*phys.CMB_spec(eng,T_start)\n",
    "\n",
    "def CMB_EdndE_end(eng):\n",
    "    return eng*phys.CMB_spec(eng,T_end)\n",
    "\n",
    "eng = 10**((np.arange(30)-15)*(1/10))\n",
    "# eng = np.array([0.2, 0.68, 1.2, 2.55, 3.7, 10, 100])\n",
    "print(\"Abscissa: \", eng)\n",
    "print(\"Exact dn/dE spectrum: \", CMB_dndE_start(eng))\n",
    "\n",
    "discrete_CMB = spec.discretize(CMB_dndE_start, eng)\n",
    "print(\"Discretized dN/dE spectrum: \", discrete_CMB.dNdE)\n",
    "plt.loglog(eng, CMB_dndE_start(eng))\n",
    "plt.loglog(discrete_CMB.eng, discrete_CMB.dNdE)\n",
    "\n",
    "print(\"Exact total number in spectrum: \", integrate.quad(CMB_dndE_start, eng[0], eng[-1])[0])\n",
    "print(\"Exact total energy in spectrum: \", integrate.quad(CMB_EdndE_start, eng[0], eng[-1])[0])\n",
    "print(\"Total number in discretized spectrum: \", discrete_CMB.totN())\n",
    "print(\"Total energy in discretized spectrum: \", discrete_CMB.toteng())\n",
    "print(\"Ratio of total number: \", integrate.quad(CMB_dndE_start, eng[0], eng[-1])[0]/discrete_CMB.totN())\n",
    "print(\"Ratio of total energy: \", integrate.quad(CMB_EdndE_start, eng[0], eng[-1])[0]/discrete_CMB.toteng())\n",
    "\n",
    "print(\"Redshifting the discrete spectrum from T_start = \",T_start,\" eV to T_end = \",T_end,\" eV.\")\n",
    "discrete_CMB.rs = 4000\n",
    "discrete_CMB.redshift(4000/fac)\n",
    "# The CMB spectrum is given per volume, so there's an additional factor of 4^3 to make the comparison.\n",
    "plt.loglog(discrete_CMB.eng, discrete_CMB.dNdE/fac**3)\n",
    "plt.loglog(eng, CMB_dndE_end(eng))\n",
    "plt.axis([10**-2, 10**2, 10**5, 10**15])\n",
    "\n",
    "print(\"Ratio of total number in the analytic, redshifted spectrum to the redshifted discrete spectrum: \")\n",
    "print(integrate.quad(CMB_dndE_end, eng[0]/fac, eng[-1]/fac)[0]/(discrete_CMB.totN()/fac**3))\n",
    "print(\"Ratio of total energy in the analytic, redshifted spectrum to the redshifted discrete spectrum: \")\n",
    "print(integrate.quad(CMB_EdndE_end, eng[0]/fac, eng[-1]/fac)[0]/(discrete_CMB.toteng()/fac**3))"
   ]
  },
  {
   "cell_type": "code",
   "execution_count": null,
   "metadata": {
    "collapsed": true
   },
   "outputs": [],
   "source": []
  }
 ],
 "metadata": {
  "anaconda-cloud": {},
  "kernelspec": {
   "display_name": "Python [default]",
   "language": "python",
   "name": "python3"
  },
  "language_info": {
   "codemirror_mode": {
    "name": "ipython",
    "version": 3
   },
   "file_extension": ".py",
   "mimetype": "text/x-python",
   "name": "python",
   "nbconvert_exporter": "python",
   "pygments_lexer": "ipython3",
   "version": "3.5.2"
  }
 },
 "nbformat": 4,
 "nbformat_minor": 1
}

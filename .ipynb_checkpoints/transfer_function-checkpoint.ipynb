{
 "cells": [
  {
   "cell_type": "code",
   "execution_count": 14,
   "metadata": {},
   "outputs": [
    {
     "name": "stdout",
     "output_type": "stream",
     "text": [
      "The autoreload extension is already loaded. To reload it, use:\n",
      "  %reload_ext autoreload\n"
     ]
    }
   ],
   "source": [
    "%load_ext autoreload"
   ]
  },
  {
   "cell_type": "code",
   "execution_count": 378,
   "metadata": {},
   "outputs": [],
   "source": [
    "%autoreload\n",
    "%matplotlib inline\n",
    "\n",
    "import numpy as np\n",
    "import physics as phys\n",
    "import utilities as utils\n",
    "import spectrum as spec\n",
    "import transferfunction as tf\n",
    "import matplotlib.pyplot as plt\n",
    "import time as time\n",
    "\n",
    "matplotlib.rcParams['figure.figsize'] = [10,10]\n",
    "\n",
    "\n",
    "from scipy import integrate\n",
    "from pylab import *"
   ]
  },
  {
   "cell_type": "code",
   "execution_count": 379,
   "metadata": {},
   "outputs": [],
   "source": [
    "log_rs = np.log(4) + (np.arange(50)+1)*(np.log(31) - np.log(4))/50\n",
    "log_rs = np.flipud(log_rs)\n",
    "\n",
    "mmin = 5e3\n",
    "mmax = 1e13\n",
    "nwimpsteps = 40\n",
    "mwimp = mmin*np.exp((np.arange(nwimpsteps))*np.log(mmax/mmin)/nwimpsteps)\n",
    "mwimpmax = mwimp[-1]\n",
    "\n",
    "nengsteps = 500\n",
    "lowinjE = 3e3 + 100.\n",
    "eng = lowinjE*np.exp((np.arange(nengsteps)*np.log(mwimpmax/lowinjE)/nengsteps))"
   ]
  },
  {
   "cell_type": "code",
   "execution_count": 380,
   "metadata": {
    "scrolled": true
   },
   "outputs": [
    {
     "name": "stdout",
     "output_type": "stream",
     "text": [
      "(50, 1, 500, 500)\n"
     ]
    }
   ],
   "source": [
    "tf_raw = np.load('/Users/hongwan/Dropbox (MIT)/transferfunction.npy')\n",
    "tf_raw \n",
    "tf_raw = np.swapaxes(tf_raw,0,1)\n",
    "tf_raw = np.swapaxes(tf_raw,1,2)\n",
    "tf_raw = np.swapaxes(tf_raw,2,3)\n",
    "tf_raw = np.flip(tf_raw,axis=0)\n",
    "# Claim: tf ordering is now (1+z, xe, outE, injE), redshift in decreasing order.\n",
    "print(tf_raw.shape)\n",
    "\n",
    "#tf_raw_list is an array of dimensions [N_injE, N_rs, N_outE].  \n",
    "tf_raw_list =[[spec.Spectrum(eng, tf_raw[i,0,:,j], exp(log_rs[i])) for i in np.arange(tf_raw.shape[0])] \n",
    "            for j in np.arange(tf_raw.shape[-1])]\n",
    "#transfer_func_table is a list of length N_injE, each with a Transferfunction object, with rs and outE as abscissa.\n",
    "transfer_func_table = [tf.Transferfunction(eng, spec_list, exp(log_rs)) for spec_list in tf_raw_list]"
   ]
  },
  {
   "cell_type": "code",
   "execution_count": 381,
   "metadata": {},
   "outputs": [],
   "source": [
    "#Normalize each transfer_func in transfer_func_table by dN/dE of a single particle of injE. \n",
    "#Two particles injected initially. \n",
    "dNdE_norm = spec.rebin_N_arr(np.ones(eng.size), eng, eng)\n",
    "\n",
    "for i in np.arange(eng.size):\n",
    "    transfer_func_table[i] /= (2*dNdE_norm.dNdE[i])"
   ]
  },
  {
   "cell_type": "code",
   "execution_count": 382,
   "metadata": {},
   "outputs": [],
   "source": [
    "#Initialize\n",
    "start_mwimp = eng[299]\n",
    "rs_list = np.exp(np.arange(log_rs[0], log_rs[0]-0.004, -0.002))\n",
    "\n",
    "photon_spec_init = spec.rebin_N_arr(np.array([2]), np.array([eng[299]]), eng)"
   ]
  },
  {
   "cell_type": "code",
   "execution_count": 383,
   "metadata": {},
   "outputs": [
    {
     "name": "stdout",
     "output_type": "stream",
     "text": [
      "[ 31.          30.93806196  30.87624767]\n"
     ]
    }
   ],
   "source": [
    "print(rs_list)"
   ]
  },
  {
   "cell_type": "code",
   "execution_count": 384,
   "metadata": {},
   "outputs": [],
   "source": [
    "photon_spectra = spec.Spectra(photonspec.eng, [photon_spec_init], np.array(rs_list[0]))\n",
    "\n",
    "for rs in rs_list:\n",
    "    tf_at_rs = tf.Transferfunction(eng, [transfer_func.at_rs(rs) for transfer_func in transfer_func_table], \n",
    "                                   rs*np.ones(eng.size)) \n",
    "    photon_spectra.append(tf_at_rs.sum_specs_by_weight(photon_spectra[-1]))\n",
    "    photon_spectra[-1].rs = rs  "
   ]
  },
  {
   "cell_type": "code",
   "execution_count": 386,
   "metadata": {},
   "outputs": [
    {
     "name": "stdout",
     "output_type": "stream",
     "text": [
      "[  8.28428648e-04   6.73898270e-04   7.65523336e-04   8.60169896e-04\n",
      "   5.46738025e-04   5.11566363e-04   7.53119198e-04   4.88566719e-04\n",
      "   4.14365678e-04   4.88435097e-04   5.10581041e-04   3.35127245e-04\n",
      "   3.13432489e-04   4.74345872e-04   2.85552366e-04   2.52997603e-04\n",
      "   3.08968260e-04   3.00434373e-04   2.03847460e-04   1.90556839e-04\n",
      "   2.96132646e-04   1.65158060e-04   1.53177695e-04   1.93487941e-04\n",
      "   1.74999812e-04   1.22870563e-04   1.19293411e-04   1.74472609e-04\n",
      "   9.83299769e-05   9.18185118e-05   1.19751234e-04   1.00699934e-04\n",
      "   7.32556505e-05   7.42369438e-05   1.00603158e-04   5.82786150e-05\n",
      "   5.43733521e-05   7.30939954e-05   5.70977907e-05   4.30944785e-05\n",
      "   4.54774410e-05   5.71279421e-05   3.40341516e-05   3.17211734e-05\n",
      "   4.38760889e-05   3.18017220e-05   2.49367637e-05   2.73379103e-05\n",
      "   3.18393040e-05   1.95172538e-05   1.81671206e-05   2.58019794e-05\n",
      "   1.73297006e-05   1.41384438e-05   1.60607671e-05   1.73356913e-05\n",
      "   1.09423664e-05   1.01688612e-05   1.47922367e-05   9.18826270e-06\n",
      "   7.81339130e-06   9.17353403e-06   9.16653454e-06   5.96120058e-06\n",
      "   5.52851724e-06   8.21567440e-06   4.70642613e-06   4.17931960e-06\n",
      "   5.05640060e-06   4.67135661e-06   3.13101123e-06   2.91202460e-06\n",
      "   4.35105208e-06   2.32175084e-06   2.14412164e-06   2.66333362e-06\n",
      "   2.26984096e-06   1.56891060e-06   1.51828348e-06   2.08151251e-06\n",
      "   1.13270227e-06   1.04198675e-06   1.32313807e-06   1.03666109e-06\n",
      "   7.39313129e-07   7.41102571e-07   9.29974226e-07   5.15308933e-07\n",
      "   4.71628806e-07   6.08929639e-07   4.36528806e-07   3.21332587e-07\n",
      "   3.31821441e-07   3.79727811e-07   2.13822381e-07   1.94353608e-07\n",
      "   2.53302233e-07   1.65166416e-07   1.25541351e-07   1.32611922e-07\n",
      "   1.37612194e-07   7.86005973e-08   7.07854166e-08   9.22309048e-08\n",
      "   5.42715410e-08   4.26516310e-08   4.57113382e-08   4.26892774e-08\n",
      "   2.46992879e-08   2.19791554e-08   2.83605620e-08   1.49450170e-08\n",
      "   1.21852172e-08   1.31510165e-08   1.10418571e-08   6.50891598e-09\n",
      "   5.72298136e-09   7.35960730e-09   3.77628343e-09   3.25286816e-09\n",
      "   3.62263803e-09   1.93050071e-09   1.12412151e-09   9.67138068e-10\n",
      "   1.09519457e-09   4.52341016e-10   3.85165332e-10   3.89925764e-10\n",
      "   2.39998427e-10   1.39744136e-10   1.18820108e-10   1.13025556e-10\n",
      "   4.44273437e-11   3.65991010e-11   3.44925153e-11   1.75459484e-11\n",
      "   1.01931767e-11   8.30338651e-12   6.43393265e-12   2.37029360e-12\n",
      "   1.85800086e-12   1.56105797e-12   6.33128273e-13   3.67476585e-13\n",
      "   2.74483920e-13   1.67463079e-13   5.82617480e-14   4.27074990e-14\n",
      "   3.14696325e-14   1.08750261e-14   6.85872950e-15   5.31017981e-15\n",
      "   3.85667491e-15   2.03547680e-15   1.78861266e-15   2.42994226e-15\n",
      "   1.58233407e-15   1.34646437e-15   1.59932005e-15   1.74887849e-15\n",
      "   1.17445291e-15   1.11167866e-15   1.73723686e-15   1.10046465e-15\n",
      "   9.83033945e-16   1.22364364e-15   1.25250414e-15   8.69538788e-16\n",
      "   8.23321858e-16   1.32646398e-15   7.80163191e-16   7.28341500e-16\n",
      "   9.40859856e-16   8.97491895e-16   6.44271590e-16   6.30426435e-16\n",
      "   9.73818423e-16   5.69865250e-16   5.39650899e-16   7.22553636e-16\n",
      "   6.42305747e-16   4.77369900e-16   4.89190434e-16   7.01868658e-16\n",
      "   4.22247413e-16   3.99850869e-16   5.54276771e-16   4.59065556e-16\n",
      "   3.53712337e-16   3.78877482e-16   5.05437264e-16   3.12876815e-16\n",
      "   2.96275068e-16   4.24748663e-16   3.27634325e-16   2.62096207e-16\n",
      "   2.92935601e-16   3.63660900e-16   2.31846073e-16   2.19539570e-16\n",
      "   3.25180891e-16   2.33477882e-16   1.94221964e-16   2.26136784e-16\n",
      "   2.61416315e-16   1.71815216e-16   1.62692400e-16   2.48742787e-16\n",
      "   1.66114175e-16   1.43940969e-16   1.74330266e-16   1.87747381e-16\n",
      "   1.27346601e-16   1.20583473e-16   1.90136747e-16   1.17989818e-16\n",
      "   1.06698377e-16   1.34235473e-16   1.34721654e-16   9.44122321e-17\n",
      "   8.93979188e-17   1.45263000e-16   8.36669099e-17   7.91204669e-17\n",
      "   1.03270201e-16   9.65998937e-17   7.00288931e-17   6.94411257e-17\n",
      "   1.05081440e-16   6.19885267e-17   5.87089727e-17   7.94100455e-17\n",
      "   6.92329505e-17   5.19878662e-17   5.39638370e-17   7.58918360e-17\n",
      "   4.60476657e-17   4.36147643e-17   6.10743679e-17   4.96239921e-17\n",
      "   3.86548525e-17   4.19275885e-17   5.48649324e-17   3.42763781e-17\n",
      "   3.24703103e-17   4.70346919e-17   3.56110700e-17   2.88219406e-17\n",
      "   3.26179981e-17   3.97609617e-17   2.56082720e-17   2.42657969e-17\n",
      "   3.63419147e-17   2.56369527e-17   2.15981636e-17   2.54725479e-17\n",
      "   2.89613513e-17   1.92579129e-17   1.82576111e-17   2.82689942e-17\n",
      "   1.85824943e-17   1.63287699e-17   2.00545851e-17   2.12998646e-17\n",
      "   1.46496754e-17   1.39009648e-17   2.22665889e-17   1.36460679e-17\n",
      "   1.25358832e-17   1.60325263e-17   1.59402327e-17   1.13655501e-17\n",
      "   1.09332374e-17   1.76804081e-17   1.03732743e-17   9.87516321e-18\n",
      "   1.31639871e-17   1.22877411e-17   9.10723550e-18   9.21541926e-18\n",
      "   1.39570445e-17   8.48621615e-18   8.10454269e-18   1.12847086e-17\n",
      "   9.92561673e-18   7.66904498e-18   8.16571049e-18   1.16424014e-17\n",
      "   7.36260130e-18   7.06222049e-18   1.03022526e-17   8.56961525e-18\n",
      "   6.91918767e-18   7.75999898e-18   1.04626259e-17   7.38415140e-12\n",
      "   1.70139580e-10   1.41810360e-09   3.10185337e-08   1.29569165e-08\n",
      "   0.00000000e+00   0.00000000e+00   0.00000000e+00   0.00000000e+00\n",
      "   0.00000000e+00   0.00000000e+00   0.00000000e+00   0.00000000e+00\n",
      "   0.00000000e+00   0.00000000e+00   0.00000000e+00   0.00000000e+00\n",
      "   0.00000000e+00   0.00000000e+00   0.00000000e+00   0.00000000e+00\n",
      "   0.00000000e+00   0.00000000e+00   0.00000000e+00   0.00000000e+00\n",
      "   0.00000000e+00   0.00000000e+00   0.00000000e+00   0.00000000e+00\n",
      "   0.00000000e+00   0.00000000e+00   0.00000000e+00   0.00000000e+00\n",
      "   0.00000000e+00   0.00000000e+00   0.00000000e+00   0.00000000e+00\n",
      "   0.00000000e+00   0.00000000e+00   0.00000000e+00   0.00000000e+00\n",
      "   0.00000000e+00   0.00000000e+00   0.00000000e+00   0.00000000e+00\n",
      "   0.00000000e+00   0.00000000e+00   0.00000000e+00   0.00000000e+00\n",
      "   0.00000000e+00   0.00000000e+00   0.00000000e+00   0.00000000e+00\n",
      "   0.00000000e+00   0.00000000e+00   0.00000000e+00   0.00000000e+00\n",
      "   0.00000000e+00   0.00000000e+00   0.00000000e+00   0.00000000e+00\n",
      "   0.00000000e+00   0.00000000e+00   0.00000000e+00   0.00000000e+00\n",
      "   0.00000000e+00   0.00000000e+00   0.00000000e+00   0.00000000e+00\n",
      "   0.00000000e+00   0.00000000e+00   0.00000000e+00   0.00000000e+00\n",
      "   0.00000000e+00   0.00000000e+00   0.00000000e+00   0.00000000e+00\n",
      "   0.00000000e+00   0.00000000e+00   0.00000000e+00   0.00000000e+00\n",
      "   0.00000000e+00   0.00000000e+00   0.00000000e+00   0.00000000e+00\n",
      "   0.00000000e+00   0.00000000e+00   0.00000000e+00   0.00000000e+00\n",
      "   0.00000000e+00   0.00000000e+00   0.00000000e+00   0.00000000e+00\n",
      "   0.00000000e+00   0.00000000e+00   0.00000000e+00   0.00000000e+00\n",
      "   0.00000000e+00   0.00000000e+00   0.00000000e+00   0.00000000e+00\n",
      "   0.00000000e+00   0.00000000e+00   0.00000000e+00   0.00000000e+00\n",
      "   0.00000000e+00   0.00000000e+00   0.00000000e+00   0.00000000e+00\n",
      "   0.00000000e+00   0.00000000e+00   0.00000000e+00   0.00000000e+00\n",
      "   0.00000000e+00   0.00000000e+00   0.00000000e+00   0.00000000e+00\n",
      "   0.00000000e+00   0.00000000e+00   0.00000000e+00   0.00000000e+00\n",
      "   0.00000000e+00   0.00000000e+00   0.00000000e+00   0.00000000e+00\n",
      "   0.00000000e+00   0.00000000e+00   0.00000000e+00   0.00000000e+00\n",
      "   0.00000000e+00   0.00000000e+00   0.00000000e+00   0.00000000e+00\n",
      "   0.00000000e+00   0.00000000e+00   0.00000000e+00   0.00000000e+00\n",
      "   0.00000000e+00   0.00000000e+00   0.00000000e+00   0.00000000e+00\n",
      "   0.00000000e+00   0.00000000e+00   0.00000000e+00   0.00000000e+00\n",
      "   0.00000000e+00   0.00000000e+00   0.00000000e+00   0.00000000e+00\n",
      "   0.00000000e+00   0.00000000e+00   0.00000000e+00   0.00000000e+00\n",
      "   0.00000000e+00   0.00000000e+00   0.00000000e+00   0.00000000e+00\n",
      "   0.00000000e+00   0.00000000e+00   0.00000000e+00   0.00000000e+00\n",
      "   0.00000000e+00   0.00000000e+00   0.00000000e+00   0.00000000e+00\n",
      "   0.00000000e+00   0.00000000e+00   0.00000000e+00   0.00000000e+00\n",
      "   0.00000000e+00   0.00000000e+00   0.00000000e+00   0.00000000e+00\n",
      "   0.00000000e+00   0.00000000e+00   0.00000000e+00   0.00000000e+00\n",
      "   0.00000000e+00   0.00000000e+00   0.00000000e+00   0.00000000e+00\n",
      "   0.00000000e+00   0.00000000e+00   0.00000000e+00   0.00000000e+00\n",
      "   0.00000000e+00   0.00000000e+00   0.00000000e+00   0.00000000e+00\n",
      "   0.00000000e+00   0.00000000e+00   0.00000000e+00   0.00000000e+00\n",
      "   0.00000000e+00   0.00000000e+00   0.00000000e+00   0.00000000e+00\n",
      "   0.00000000e+00   0.00000000e+00   0.00000000e+00   0.00000000e+00\n",
      "   0.00000000e+00   0.00000000e+00   0.00000000e+00   0.00000000e+00]\n"
     ]
    }
   ],
   "source": [
    "print(photon_spectra[1].dNdE)"
   ]
  },
  {
   "cell_type": "code",
   "execution_count": 388,
   "metadata": {},
   "outputs": [
    {
     "data": {
      "image/png": "[encoded data removed]",
      "text/plain": [
       "<matplotlib.figure.Figure at 0x13ddcfb00>"
      ]
     },
     "metadata": {},
     "output_type": "display_data"
    }
   ],
   "source": [
    "a = photon_spectra.plot(3)\n",
    "ax = a.add_subplot(1,1,1)\n",
    "ax.set_xscale('log')\n",
    "ax.set_yscale('log')"
   ]
  },
  {
   "cell_type": "code",
   "execution_count": 320,
   "metadata": {},
   "outputs": [
    {
     "name": "stdout",
     "output_type": "stream",
     "text": [
      "[  0.00000000e+00   0.00000000e+00   0.00000000e+00   0.00000000e+00\n",
      "   0.00000000e+00   0.00000000e+00   0.00000000e+00   0.00000000e+00\n",
      "   0.00000000e+00   0.00000000e+00   0.00000000e+00   0.00000000e+00\n",
      "   0.00000000e+00   0.00000000e+00   0.00000000e+00   0.00000000e+00\n",
      "   0.00000000e+00   0.00000000e+00   0.00000000e+00   0.00000000e+00\n",
      "   0.00000000e+00   0.00000000e+00   0.00000000e+00   0.00000000e+00\n",
      "   0.00000000e+00   0.00000000e+00   0.00000000e+00   0.00000000e+00\n",
      "   0.00000000e+00   0.00000000e+00   0.00000000e+00   0.00000000e+00\n",
      "   0.00000000e+00   0.00000000e+00   0.00000000e+00   0.00000000e+00\n",
      "   0.00000000e+00   0.00000000e+00   0.00000000e+00   0.00000000e+00\n",
      "   0.00000000e+00   0.00000000e+00   0.00000000e+00   0.00000000e+00\n",
      "   0.00000000e+00   0.00000000e+00   0.00000000e+00   0.00000000e+00\n",
      "   0.00000000e+00   0.00000000e+00   0.00000000e+00   0.00000000e+00\n",
      "   0.00000000e+00   0.00000000e+00   0.00000000e+00   0.00000000e+00\n",
      "   0.00000000e+00   0.00000000e+00   0.00000000e+00   0.00000000e+00\n",
      "   0.00000000e+00   0.00000000e+00   0.00000000e+00   0.00000000e+00\n",
      "   0.00000000e+00   0.00000000e+00   0.00000000e+00   0.00000000e+00\n",
      "   0.00000000e+00   0.00000000e+00   0.00000000e+00   0.00000000e+00\n",
      "   0.00000000e+00   0.00000000e+00   0.00000000e+00   0.00000000e+00\n",
      "   0.00000000e+00   0.00000000e+00   0.00000000e+00   0.00000000e+00\n",
      "   0.00000000e+00   0.00000000e+00   0.00000000e+00   0.00000000e+00\n",
      "   0.00000000e+00   0.00000000e+00   0.00000000e+00   0.00000000e+00\n",
      "   0.00000000e+00   0.00000000e+00   0.00000000e+00   0.00000000e+00\n",
      "   0.00000000e+00   0.00000000e+00   0.00000000e+00   0.00000000e+00\n",
      "   0.00000000e+00   0.00000000e+00   0.00000000e+00   0.00000000e+00\n",
      "   0.00000000e+00   0.00000000e+00   0.00000000e+00   0.00000000e+00\n",
      "   0.00000000e+00   0.00000000e+00   0.00000000e+00   0.00000000e+00\n",
      "   0.00000000e+00   0.00000000e+00   0.00000000e+00   0.00000000e+00\n",
      "   0.00000000e+00   0.00000000e+00   0.00000000e+00   0.00000000e+00\n",
      "   0.00000000e+00   0.00000000e+00   0.00000000e+00   0.00000000e+00\n",
      "   0.00000000e+00   0.00000000e+00   0.00000000e+00   0.00000000e+00\n",
      "   0.00000000e+00   0.00000000e+00   0.00000000e+00   0.00000000e+00\n",
      "   0.00000000e+00   0.00000000e+00   0.00000000e+00   0.00000000e+00\n",
      "   0.00000000e+00   0.00000000e+00   0.00000000e+00   0.00000000e+00\n",
      "   0.00000000e+00   0.00000000e+00   0.00000000e+00   0.00000000e+00\n",
      "   0.00000000e+00   0.00000000e+00   0.00000000e+00   0.00000000e+00\n",
      "   0.00000000e+00   0.00000000e+00   0.00000000e+00   0.00000000e+00\n",
      "   0.00000000e+00   0.00000000e+00   0.00000000e+00   0.00000000e+00\n",
      "   0.00000000e+00   0.00000000e+00   0.00000000e+00   0.00000000e+00\n",
      "   0.00000000e+00   0.00000000e+00   0.00000000e+00   0.00000000e+00\n",
      "   0.00000000e+00   0.00000000e+00   0.00000000e+00   0.00000000e+00\n",
      "   0.00000000e+00   0.00000000e+00   0.00000000e+00   0.00000000e+00\n",
      "   0.00000000e+00   0.00000000e+00   0.00000000e+00   0.00000000e+00\n",
      "   0.00000000e+00   0.00000000e+00   0.00000000e+00   0.00000000e+00\n",
      "   0.00000000e+00   0.00000000e+00   0.00000000e+00   0.00000000e+00\n",
      "   0.00000000e+00   0.00000000e+00   0.00000000e+00   0.00000000e+00\n",
      "   0.00000000e+00   0.00000000e+00   0.00000000e+00   0.00000000e+00\n",
      "   0.00000000e+00   0.00000000e+00   0.00000000e+00   0.00000000e+00\n",
      "   0.00000000e+00   0.00000000e+00   0.00000000e+00   0.00000000e+00\n",
      "   0.00000000e+00   0.00000000e+00   0.00000000e+00   0.00000000e+00\n",
      "   0.00000000e+00   0.00000000e+00   0.00000000e+00   0.00000000e+00\n",
      "   0.00000000e+00   0.00000000e+00   0.00000000e+00   0.00000000e+00\n",
      "   0.00000000e+00   0.00000000e+00   0.00000000e+00   0.00000000e+00\n",
      "   0.00000000e+00   0.00000000e+00   0.00000000e+00   0.00000000e+00\n",
      "   0.00000000e+00   0.00000000e+00   0.00000000e+00   0.00000000e+00\n",
      "   0.00000000e+00   0.00000000e+00   0.00000000e+00   0.00000000e+00\n",
      "   0.00000000e+00   0.00000000e+00   0.00000000e+00   0.00000000e+00\n",
      "   0.00000000e+00   0.00000000e+00   0.00000000e+00   0.00000000e+00\n",
      "   0.00000000e+00   0.00000000e+00   0.00000000e+00   0.00000000e+00\n",
      "   0.00000000e+00   0.00000000e+00   0.00000000e+00   0.00000000e+00\n",
      "   0.00000000e+00   0.00000000e+00   0.00000000e+00   0.00000000e+00\n",
      "   0.00000000e+00   0.00000000e+00   0.00000000e+00   0.00000000e+00\n",
      "   0.00000000e+00   0.00000000e+00   0.00000000e+00   0.00000000e+00\n",
      "   0.00000000e+00   0.00000000e+00   0.00000000e+00   0.00000000e+00\n",
      "   0.00000000e+00   0.00000000e+00   0.00000000e+00   0.00000000e+00\n",
      "   0.00000000e+00   0.00000000e+00   0.00000000e+00   0.00000000e+00\n",
      "   0.00000000e+00   0.00000000e+00   0.00000000e+00   0.00000000e+00\n",
      "   0.00000000e+00   0.00000000e+00   0.00000000e+00   0.00000000e+00\n",
      "   0.00000000e+00   0.00000000e+00   0.00000000e+00   0.00000000e+00\n",
      "   0.00000000e+00   0.00000000e+00   0.00000000e+00   0.00000000e+00\n",
      "   0.00000000e+00   0.00000000e+00   0.00000000e+00   0.00000000e+00\n",
      "   0.00000000e+00   0.00000000e+00   1.21429403e-03   5.58234252e-03\n",
      "   4.36763038e-03   7.30623650e-03   7.05728426e-03   3.52554115e-03\n",
      "   2.77449189e-03   2.62176883e-03   2.49219565e-03   1.96306149e-03\n",
      "   2.12157235e-03   1.63778733e-03   1.57950257e-03   1.45284288e-03\n",
      "   1.17579810e-03   1.28908867e-03   1.04603778e-03   2.45226684e-03\n",
      "   1.07311122e-03   7.03517840e-04   7.58078430e-04   5.59289178e-04\n",
      "   5.65125197e-04   4.90898474e-04   4.13139122e-04   4.28258574e-04\n",
      "   3.34048304e-04   5.16981421e-04   6.53054882e-04   2.41467710e-04\n",
      "   2.40313031e-04   1.80028627e-04   1.85778188e-04   1.51101053e-04\n",
      "   1.33876157e-04   1.32138239e-04   1.15947044e-04   2.70509923e-04\n",
      "   8.88275893e-05   7.17283447e-05   6.81782576e-05   5.21252675e-05\n",
      "   5.53209610e-05   4.76965422e-05   9.86570674e-05   4.47926725e-05\n",
      "   2.56233278e-05   2.71179549e-05   2.05980800e-05   2.76606979e-05\n",
      "   4.26564567e-05   1.21100354e-05   1.36596598e-05   1.23019698e-05\n",
      "   2.16672821e-05   8.74662144e-06   5.51849198e-06   6.46038010e-06\n",
      "   9.29163839e-06   6.34942621e-06   2.94485708e-06   2.92902234e-06\n",
      "   6.41231781e-06   1.56490935e-06   2.32108971e-06   2.81479486e-06\n",
      "   8.51212461e-07   1.45408006e-06   1.42384177e-06   8.24708234e-07\n",
      "   9.16397832e-07   4.05957866e-07   6.15205259e-07   2.01121361e-07\n",
      "   3.76310296e-07   1.19732642e-07   2.44155337e-07   1.40813691e-07\n",
      "   7.57291881e-08   5.44030538e-08   7.51815972e-08   5.17336219e-08\n",
      "   3.21194749e-08   2.30833805e-08   2.30840477e-08   1.19587806e-08\n",
      "   8.42979104e-09   5.25653104e-09   3.88407975e-09   2.52222726e-09\n",
      "   7.28720779e-10   6.06311979e-10   7.15263896e-10   1.67008200e-10\n",
      "   2.10008443e-10   4.61729184e-11   5.07068561e-11   1.68106930e-11\n",
      "   1.20435196e-11   5.68533674e-12   3.31972614e-12   2.50313246e-12\n",
      "   3.42619797e-13   3.81232837e-13   1.89114006e-13   2.20860691e-14\n",
      "   6.33166564e-14   3.05359768e-14   1.13411075e-14   1.02221760e-14\n",
      "   1.99141498e-14   1.97656804e-14   1.15766004e-14   6.60751588e-15\n",
      "   7.54574186e-15   1.30749364e-14   1.43581728e-14   9.49694422e-15\n",
      "   6.31973631e-15   3.49857060e-15   5.82210299e-15   9.94988810e-15\n",
      "   7.85623452e-15   8.18671040e-15   7.64243030e-15   5.78636678e-15\n",
      "   4.61425196e-15   2.18887978e-15   1.93200567e-15   4.65890690e-15\n",
      "   4.37216514e-15   4.84863046e-15   3.81292687e-15   4.10207045e-15\n",
      "   3.66329156e-15   3.32350754e-15   3.56114298e-15   2.86556925e-15\n",
      "   3.09004072e-15   2.73363680e-15   2.56307279e-15   2.61112766e-15\n",
      "   1.94815356e-15   1.66543553e-15   1.04118370e-15   6.46896151e-16\n",
      "   7.27041644e-16   1.36142609e-15   1.54414981e-15   1.26162584e-15\n",
      "   1.24617008e-15   1.22843388e-15   1.01897780e-15   1.15505257e-15\n",
      "   9.25171312e-16   9.35723893e-16   9.00296873e-16   7.56358963e-16\n",
      "   8.67581548e-16   6.76960669e-16   7.03634180e-16   6.60111290e-16\n",
      "   5.65757478e-16   6.42975741e-16   4.99665045e-16   5.30315677e-16\n",
      "   4.83434217e-16   4.26718223e-16   4.72551792e-16   3.71367039e-16\n",
      "   4.00437387e-16   3.54204172e-16   3.23001169e-16   3.47873218e-16\n",
      "   2.76902395e-16   3.03249734e-16   2.60229808e-16   2.45713304e-16\n",
      "   2.57123547e-16   2.07469366e-16   2.30924506e-16   1.92417247e-16\n",
      "   1.88352137e-16   1.91410693e-16   1.56963109e-16   1.77601138e-16\n",
      "   1.43955016e-16   1.46235585e-16   1.44429941e-16   1.20736678e-16\n",
      "   1.39005891e-16   1.09903653e-16   1.16050749e-16   1.11624262e-16\n",
      "   9.54525939e-17   1.12096234e-16   8.67851286e-17   9.54260538e-17\n",
      "   8.96498815e-17   7.99429049e-17   9.26558527e-17   7.31443280e-17\n",
      "   8.92763657e-17   3.02791968e-16   7.58557133e-15   3.25832354e-13\n",
      "   4.79142546e-12   1.21705085e-10   1.15524467e-09   7.31160773e-09\n",
      "   1.84702298e-08   1.22888617e-08   4.29126790e-09   4.07702964e-10]\n"
     ]
    }
   ],
   "source": [
    "# Spectrum needs to be re-binned for comparison\n",
    "dlnphoteng   = np.log((phys.me*1e-9 + start_mwimp)/1e-4)/500\n",
    "photbins     = 1e-4*np.exp(np.arange(501)*dlnphoteng)\n",
    "photenglow   = photbins[0:500]\n",
    "photenghigh  = photbins[1:501]\n",
    "photeng      = np.sqrt(photenglow*photenghigh) \n",
    "newphotspec = spec.Spectrum(photonspec.eng[0:299], photonspec.dNdE[0:299], photonspec.rs)\n",
    "newphotspec.rebin(photeng)\n",
    "print(newphotspec.dNdE)"
   ]
  },
  {
   "cell_type": "code",
   "execution_count": null,
   "metadata": {
    "collapsed": true
   },
   "outputs": [],
   "source": []
  }
 ],
 "metadata": {
  "anaconda-cloud": {},
  "kernelspec": {
   "display_name": "Python 3",
   "language": "python",
   "name": "python3"
  },
  "language_info": {
   "codemirror_mode": {
    "name": "ipython",
    "version": 3
   },
   "file_extension": ".py",
   "mimetype": "text/x-python",
   "name": "python",
   "nbconvert_exporter": "python",
   "pygments_lexer": "ipython3",
   "version": "3.6.1"
  }
 },
 "nbformat": 4,
 "nbformat_minor": 1
}

{
 "cells": [
  {
   "cell_type": "code",
   "execution_count": 1,
   "metadata": {},
   "outputs": [],
   "source": [
    "%load_ext autoreload"
   ]
  },
  {
   "cell_type": "code",
   "execution_count": 11,
   "metadata": {},
   "outputs": [],
   "source": [
    "%autoreload\n",
    "%matplotlib inline\n",
    "\n",
    "import numpy as np\n",
    "import physics as phys\n",
    "import utilities as utils\n",
    "import spectrum as spec\n",
    "import transferfunction as tf\n",
    "import matplotlib\n",
    "import matplotlib.pyplot as plt\n",
    "import time as time\n",
    "\n",
    "matplotlib.rcParams['figure.figsize'] = [10,10]\n",
    "\n",
    "\n",
    "from scipy import integrate\n",
    "from pylab import *"
   ]
  },
  {
   "cell_type": "code",
   "execution_count": 12,
   "metadata": {
    "collapsed": true
   },
   "outputs": [],
   "source": [
    "log_rs = np.log(4) + (np.arange(50)+1)*(np.log(31) - np.log(4))/50\n",
    "log_rs = np.flipud(log_rs)\n",
    "\n",
    "mmin = 5e3\n",
    "mmax = 1e13\n",
    "nwimpsteps = 40\n",
    "mwimp = mmin*np.exp((np.arange(nwimpsteps))*np.log(mmax/mmin)/nwimpsteps)\n",
    "mwimpmax = mwimp[-1]\n",
    "\n",
    "nengsteps = 500\n",
    "lowinjE = 3e3 + 100.\n",
    "eng = lowinjE*np.exp((np.arange(nengsteps)*np.log(mwimpmax/lowinjE)/nengsteps))"
   ]
  },
  {
   "cell_type": "code",
   "execution_count": 13,
   "metadata": {
    "scrolled": true
   },
   "outputs": [
    {
     "name": "stdout",
     "output_type": "stream",
     "text": [
      "(50, 1, 500, 500)\n"
     ]
    }
   ],
   "source": [
    "tf_raw = np.load('/Users/hongwan/Dropbox (MIT)/transferfunction.npy')\n",
    "tf_raw \n",
    "tf_raw = np.swapaxes(tf_raw,0,1)\n",
    "tf_raw = np.swapaxes(tf_raw,1,2)\n",
    "tf_raw = np.swapaxes(tf_raw,2,3)\n",
    "tf_raw = np.flip(tf_raw,axis=0)\n",
    "# Claim: tf ordering is now (1+z, xe, outE, injE), redshift in decreasing order.\n",
    "print(tf_raw.shape)\n",
    "\n",
    "#tf_raw_list is an array of dimensions [N_injE, N_rs, N_outE].  \n",
    "tf_raw_list =[[spec.Spectrum(eng, tf_raw[i,0,:,j], exp(log_rs[i])) for i in np.arange(tf_raw.shape[0])] \n",
    "            for j in np.arange(tf_raw.shape[-1])]\n",
    "#transfer_func_table is a list of length N_injE, each with a Transferfunction object, with rs and outE as abscissa.\n",
    "transfer_func_table = [tf.Transferfunction(spec_list) for spec_list in tf_raw_list]"
   ]
  },
  {
   "cell_type": "code",
   "execution_count": 14,
   "metadata": {},
   "outputs": [],
   "source": [
    "#Normalize each transfer_func in transfer_func_table by dN/dE of a single particle of injE. \n",
    "#Two particles injected initially. \n",
    "dNdE_norm = spec.rebin_N_arr(np.ones(eng.size), eng, eng)\n",
    "\n",
    "for i in np.arange(eng.size):\n",
    "    transfer_func_table[i] /= (2*dNdE_norm.dNdE[i])"
   ]
  },
  {
   "cell_type": "code",
   "execution_count": 15,
   "metadata": {
    "collapsed": true
   },
   "outputs": [],
   "source": [
    "#Initialize\n",
    "start_mwimp = eng[299]\n",
    "rs_list = np.exp(np.arange(log_rs[0], log_rs[1], -0.002))\n",
    "\n",
    "photon_spec_init = spec.rebin_N_arr(np.array([2]), np.array([eng[299]]), eng)\n",
    "photon_spec_init.rs = rs_list[0]"
   ]
  },
  {
   "cell_type": "code",
   "execution_count": 16,
   "metadata": {},
   "outputs": [
    {
     "name": "stdout",
     "output_type": "stream",
     "text": [
      "[ 31.          30.93806196  30.87624767  30.81455689  30.75298936\n",
      "  30.69154485  30.6302231   30.56902387  30.50794692  30.446992\n",
      "  30.38615887  30.32544729  30.264857    30.20438778  30.14403937\n",
      "  30.08381154  30.02370404  29.96371664  29.9038491   29.84410117\n",
      "  29.78447261]\n"
     ]
    }
   ],
   "source": [
    "print(rs_list)"
   ]
  },
  {
   "cell_type": "code",
   "execution_count": 18,
   "metadata": {},
   "outputs": [
    {
     "ename": "TypeError",
     "evalue": "__init__() takes 2 positional arguments but 3 were given",
     "output_type": "error",
     "traceback": [
      "\u001b[0;31m---------------------------------------------------------------------------\u001b[0m",
      "\u001b[0;31mTypeError\u001b[0m                                 Traceback (most recent call last)",
      "\u001b[0;32m<ipython-input-18-35f146bd4131>\u001b[0m in \u001b[0;36m<module>\u001b[0;34m()\u001b[0m\n\u001b[1;32m      2\u001b[0m \u001b[0;34m\u001b[0m\u001b[0m\n\u001b[1;32m      3\u001b[0m \u001b[0;32mfor\u001b[0m \u001b[0mrs\u001b[0m \u001b[0;32min\u001b[0m \u001b[0mrs_list\u001b[0m\u001b[0;34m:\u001b[0m\u001b[0;34m\u001b[0m\u001b[0m\n\u001b[0;32m----> 4\u001b[0;31m     \u001b[0mtf_at_rs\u001b[0m \u001b[0;34m=\u001b[0m \u001b[0mtf\u001b[0m\u001b[0;34m.\u001b[0m\u001b[0mTransferfunction\u001b[0m\u001b[0;34m(\u001b[0m\u001b[0meng\u001b[0m\u001b[0;34m,\u001b[0m \u001b[0;34m[\u001b[0m\u001b[0mtransfer_func\u001b[0m\u001b[0;34m.\u001b[0m\u001b[0mat_rs\u001b[0m\u001b[0;34m(\u001b[0m\u001b[0mrs\u001b[0m\u001b[0;34m)\u001b[0m \u001b[0;32mfor\u001b[0m \u001b[0mtransfer_func\u001b[0m \u001b[0;32min\u001b[0m \u001b[0mtransfer_func_table\u001b[0m\u001b[0;34m]\u001b[0m\u001b[0;34m)\u001b[0m\u001b[0;34m\u001b[0m\u001b[0m\n\u001b[0m\u001b[1;32m      5\u001b[0m     \u001b[0mphoton_spectra\u001b[0m\u001b[0;34m.\u001b[0m\u001b[0mappend\u001b[0m\u001b[0;34m(\u001b[0m\u001b[0mtf_at_rs\u001b[0m\u001b[0;34m.\u001b[0m\u001b[0msum_specs_by_weight\u001b[0m\u001b[0;34m(\u001b[0m\u001b[0mphoton_spectra\u001b[0m\u001b[0;34m[\u001b[0m\u001b[0;34m-\u001b[0m\u001b[0;36m1\u001b[0m\u001b[0;34m]\u001b[0m\u001b[0;34m)\u001b[0m\u001b[0;34m)\u001b[0m\u001b[0;34m\u001b[0m\u001b[0m\n\u001b[1;32m      6\u001b[0m     \u001b[0mphoton_spectra\u001b[0m\u001b[0;34m[\u001b[0m\u001b[0;34m-\u001b[0m\u001b[0;36m1\u001b[0m\u001b[0;34m]\u001b[0m\u001b[0;34m.\u001b[0m\u001b[0mrs\u001b[0m \u001b[0;34m=\u001b[0m \u001b[0mrs\u001b[0m\u001b[0;34m\u001b[0m\u001b[0m\n",
      "\u001b[0;31mTypeError\u001b[0m: __init__() takes 2 positional arguments but 3 were given"
     ]
    }
   ],
   "source": [
    "photon_spectra = spec.Spectra([photon_spec_init])\n",
    "\n",
    "for rs in rs_list:\n",
    "    tf_at_rs = tf.Transferfunction([transfer_func.at_rs(rs) for transfer_func in transfer_func_table]) \n",
    "    photon_spectra.append(tf_at_rs.sum_specs_by_weight(photon_spectra[-1]))\n",
    "    photon_spectra[-1].rs = rs  "
   ]
  },
  {
   "cell_type": "code",
   "execution_count": 411,
   "metadata": {},
   "outputs": [
    {
     "name": "stdout",
     "output_type": "stream",
     "text": [
      "[  1.23275636e-02   6.59194606e-03   6.70147419e-03   8.94760631e-03\n",
      "   2.46039201e-02   5.01465536e-03   4.63639172e-03   4.28402441e-03\n",
      "   3.99607812e-03   3.67803107e-03   3.43337703e-03   3.17308987e-03\n",
      "   2.94881138e-03   2.74392959e-03   2.52327055e-03   2.36336600e-03\n",
      "   2.15897292e-03   2.03578245e-03   1.86084874e-03   1.75750890e-03\n",
      "   1.62791549e-03   1.62481887e-03   2.03512270e-03   6.35269778e-03\n",
      "   1.20734588e-03   1.10730425e-03   1.02595395e-03   9.44799338e-04\n",
      "   8.71095772e-04   8.08540619e-04   7.39459962e-04   6.90127214e-04\n",
      "   6.26796981e-04   5.88214710e-04   5.42553428e-04   5.31699808e-04\n",
      "   5.67979680e-04   7.81913345e-04   1.70962682e-03   3.60780968e-04\n",
      "   3.24573892e-04   2.95392440e-04   2.72327932e-04   2.49635558e-04\n",
      "   2.27703898e-04   2.11411545e-04   1.90293055e-04   1.80419618e-04\n",
      "   1.66664129e-04   1.76877866e-04   2.24568415e-04   5.92900983e-04\n",
      "   1.08695391e-04   9.81734057e-05   9.08182951e-05   8.11035868e-05\n",
      "   7.53727521e-05   6.84569554e-05   6.56643574e-05   6.77438757e-05\n",
      "   8.67672492e-05   2.25199818e-04   3.84672013e-05   3.54882353e-05\n",
      "   3.18982069e-05   2.98726540e-05   2.84362033e-05   2.93450110e-05\n",
      "   3.84018988e-05   9.48031716e-05   1.67152682e-05   1.56942857e-05\n",
      "   1.59992589e-05   1.73429181e-05   2.20405159e-05   3.76727676e-05\n",
      "   7.70977643e-06   7.10214295e-06   6.70971858e-06   7.24264801e-06\n",
      "   9.02202322e-06   2.04842824e-05   3.38413099e-06   3.19006775e-06\n",
      "   3.33628538e-06   3.99719037e-06   1.18678642e-05   1.86376888e-06\n",
      "   1.98698875e-06   2.47773514e-06   5.50036069e-06   9.05955286e-07\n",
      "   9.12301089e-07   1.18080537e-06   3.76393138e-06   6.69640292e-07\n",
      "   8.43681874e-07   1.73642774e-06   3.88839166e-07   4.74751844e-07\n",
      "   8.89538796e-07   2.00569597e-07   2.50335938e-07   4.89601174e-07\n",
      "   9.99311589e-08   1.32990208e-07   4.45413770e-07   7.72711732e-08\n",
      "   1.21561976e-07   2.60174173e-08   3.23650922e-08   1.64164045e-07\n",
      "   2.89065876e-08   8.24668848e-08   1.96179080e-08   4.62968964e-08\n",
      "   1.29076893e-08   2.88138333e-08   8.07173795e-09   1.78647827e-08\n",
      "   3.50597617e-09   6.91012756e-09   1.36978442e-09   7.01162571e-09\n",
      "   1.09309289e-09   4.01569722e-10   7.96914372e-10   2.61591721e-10\n",
      "   9.45615761e-10   1.84993957e-10   7.38043498e-11   1.77866341e-10\n",
      "   3.91444538e-11   1.82475707e-11   3.89400742e-11   8.95322876e-12\n",
      "   4.08088369e-12   1.04536382e-11   2.17050432e-12   1.01274228e-12\n",
      "   4.87363609e-12   6.68764903e-13   2.06795436e-13   1.07197385e-13\n",
      "   4.33914108e-13   7.30085170e-14   2.81735033e-14   1.54215783e-14\n",
      "   1.03952291e-13   4.16805345e-14   2.09904269e-14   1.20369074e-14\n",
      "   6.69033848e-15   4.76597387e-14   3.93347466e-14   2.85150482e-14\n",
      "   1.93074886e-14   1.35245047e-14   8.59431362e-15   7.27332554e-15\n",
      "   3.01251679e-14   2.68661618e-14   2.14801202e-14   1.55618563e-14\n",
      "   1.11022008e-14   7.84669571e-15   4.96419698e-15   3.82619886e-15\n",
      "   1.82074699e-14   1.75543883e-14   1.68744849e-14   1.61468418e-14\n",
      "   1.46337118e-14   1.21772830e-14   9.42444571e-15   7.17125723e-15\n",
      "   5.35245305e-15   3.66372363e-15   2.53020286e-15   1.72767289e-15\n",
      "   9.13552377e-15   8.72290206e-15   8.39338676e-15   8.07644299e-15\n",
      "   7.71646051e-15   7.46258758e-15   7.10860456e-15   6.85732810e-15\n",
      "   6.55720756e-15   6.32394363e-15   6.07163099e-15   5.80189789e-15\n",
      "   5.67467254e-15   5.39653384e-15   5.11555899e-15   4.88705702e-15\n",
      "   4.27880608e-15   3.53336073e-15   2.86925531e-15   2.33692068e-15\n",
      "   1.85636414e-15   1.44416953e-15   1.07322605e-15   7.35698477e-16\n",
      "   4.59176264e-16   2.56785529e-15   2.50882752e-15   2.39649688e-15\n",
      "   2.29036932e-15   2.19952985e-15   2.10878531e-15   2.02236165e-15\n",
      "   1.93815740e-15   1.85716551e-15   1.77684555e-15   1.70595008e-15\n",
      "   1.63584560e-15   1.56810199e-15   1.50418538e-15   1.44056683e-15\n",
      "   1.37911085e-15   1.32223566e-15   1.26878439e-15   1.21641464e-15\n",
      "   1.16833804e-15   1.11778694e-15   1.06983429e-15   1.02626791e-15\n",
      "   9.84523681e-16   9.44270348e-16   9.06121724e-16   8.70834699e-16\n",
      "   8.30161901e-16   7.96855993e-16   7.64906366e-16   7.34146911e-16\n",
      "   7.04462527e-16   6.76493411e-16   6.47679487e-16   6.19652330e-16\n",
      "   5.95214049e-16   5.71497031e-16   5.49168802e-16   5.27270037e-16\n",
      "   5.06539647e-16   4.83550762e-16   4.64842775e-16   4.46584268e-16\n",
      "   4.29153531e-16   4.13219474e-16   3.97134200e-16   3.80186808e-16\n",
      "   3.64626872e-16   3.51413386e-16   3.37675268e-16   3.25167141e-16\n",
      "   3.14147503e-16   3.01851153e-16   2.88759346e-16   2.78521335e-16\n",
      "   2.69190233e-16   2.58928229e-16   2.50339200e-16   2.42875104e-16\n",
      "   2.33461983e-16   2.23814755e-16   2.17373980e-16   2.10938438e-16\n",
      "   2.03476370e-16   1.97923102e-16   1.93129243e-16   1.86009558e-16\n",
      "   1.79444457e-16   1.75692993e-16   1.71486510e-16   1.66312952e-16\n",
      "   1.63213991e-16   1.60394323e-16   1.55520201e-16   1.52760293e-16\n",
      "   1.69117619e-16   3.86972517e-16   2.83572557e-15   2.74537932e-14\n",
      "   2.48887914e-13   2.01667088e-12   1.43803123e-11   8.89521652e-11\n",
      "   4.65487846e-10   1.98314511e-09   6.62292686e-09   1.41237711e-08\n",
      "   1.89919125e-08   1.67365033e-08   9.95174970e-09   4.03271200e-09\n",
      "   1.10023167e-09   1.93661542e-10   1.98860518e-11   9.05703454e-13\n",
      "   0.00000000e+00   0.00000000e+00   0.00000000e+00   0.00000000e+00\n",
      "   0.00000000e+00   0.00000000e+00   0.00000000e+00   0.00000000e+00\n",
      "   0.00000000e+00   0.00000000e+00   0.00000000e+00   0.00000000e+00\n",
      "   0.00000000e+00   0.00000000e+00   0.00000000e+00   0.00000000e+00\n",
      "   0.00000000e+00   0.00000000e+00   0.00000000e+00   0.00000000e+00\n",
      "   0.00000000e+00   0.00000000e+00   0.00000000e+00   0.00000000e+00\n",
      "   0.00000000e+00   0.00000000e+00   0.00000000e+00   0.00000000e+00\n",
      "   0.00000000e+00   0.00000000e+00   0.00000000e+00   0.00000000e+00\n",
      "   0.00000000e+00   0.00000000e+00   0.00000000e+00   0.00000000e+00\n",
      "   0.00000000e+00   0.00000000e+00   0.00000000e+00   0.00000000e+00\n",
      "   0.00000000e+00   0.00000000e+00   0.00000000e+00   0.00000000e+00\n",
      "   0.00000000e+00   0.00000000e+00   0.00000000e+00   0.00000000e+00\n",
      "   0.00000000e+00   0.00000000e+00   0.00000000e+00   0.00000000e+00\n",
      "   0.00000000e+00   0.00000000e+00   0.00000000e+00   0.00000000e+00\n",
      "   0.00000000e+00   0.00000000e+00   0.00000000e+00   0.00000000e+00\n",
      "   0.00000000e+00   0.00000000e+00   0.00000000e+00   0.00000000e+00\n",
      "   0.00000000e+00   0.00000000e+00   0.00000000e+00   0.00000000e+00\n",
      "   0.00000000e+00   0.00000000e+00   0.00000000e+00   0.00000000e+00\n",
      "   0.00000000e+00   0.00000000e+00   0.00000000e+00   0.00000000e+00\n",
      "   0.00000000e+00   0.00000000e+00   0.00000000e+00   0.00000000e+00\n",
      "   0.00000000e+00   0.00000000e+00   0.00000000e+00   0.00000000e+00\n",
      "   0.00000000e+00   0.00000000e+00   0.00000000e+00   0.00000000e+00\n",
      "   0.00000000e+00   0.00000000e+00   0.00000000e+00   0.00000000e+00\n",
      "   0.00000000e+00   0.00000000e+00   0.00000000e+00   0.00000000e+00\n",
      "   0.00000000e+00   0.00000000e+00   0.00000000e+00   0.00000000e+00\n",
      "   0.00000000e+00   0.00000000e+00   0.00000000e+00   0.00000000e+00\n",
      "   0.00000000e+00   0.00000000e+00   0.00000000e+00   0.00000000e+00\n",
      "   0.00000000e+00   0.00000000e+00   0.00000000e+00   0.00000000e+00\n",
      "   0.00000000e+00   0.00000000e+00   0.00000000e+00   0.00000000e+00\n",
      "   0.00000000e+00   0.00000000e+00   0.00000000e+00   0.00000000e+00\n",
      "   0.00000000e+00   0.00000000e+00   0.00000000e+00   0.00000000e+00\n",
      "   0.00000000e+00   0.00000000e+00   0.00000000e+00   0.00000000e+00\n",
      "   0.00000000e+00   0.00000000e+00   0.00000000e+00   0.00000000e+00\n",
      "   0.00000000e+00   0.00000000e+00   0.00000000e+00   0.00000000e+00\n",
      "   0.00000000e+00   0.00000000e+00   0.00000000e+00   0.00000000e+00\n",
      "   0.00000000e+00   0.00000000e+00   0.00000000e+00   0.00000000e+00\n",
      "   0.00000000e+00   0.00000000e+00   0.00000000e+00   0.00000000e+00\n",
      "   0.00000000e+00   0.00000000e+00   0.00000000e+00   0.00000000e+00\n",
      "   0.00000000e+00   0.00000000e+00   0.00000000e+00   0.00000000e+00\n",
      "   0.00000000e+00   0.00000000e+00   0.00000000e+00   0.00000000e+00\n",
      "   0.00000000e+00   0.00000000e+00   0.00000000e+00   0.00000000e+00\n",
      "   0.00000000e+00   0.00000000e+00   0.00000000e+00   0.00000000e+00\n",
      "   0.00000000e+00   0.00000000e+00   0.00000000e+00   0.00000000e+00\n",
      "   0.00000000e+00   0.00000000e+00   0.00000000e+00   0.00000000e+00\n",
      "   0.00000000e+00   0.00000000e+00   0.00000000e+00   0.00000000e+00\n",
      "   0.00000000e+00   0.00000000e+00   0.00000000e+00   0.00000000e+00\n",
      "   0.00000000e+00   0.00000000e+00   0.00000000e+00   0.00000000e+00\n",
      "   0.00000000e+00   0.00000000e+00   0.00000000e+00   0.00000000e+00\n",
      "   0.00000000e+00   0.00000000e+00   0.00000000e+00   0.00000000e+00\n",
      "   0.00000000e+00   0.00000000e+00   0.00000000e+00   0.00000000e+00]\n"
     ]
    }
   ],
   "source": [
    "print(photon_spectra[9].dNdE)"
   ]
  },
  {
   "cell_type": "code",
   "execution_count": 415,
   "metadata": {},
   "outputs": [
    {
     "data": {
      "image/png": "[encoded data removed]",
      "text/plain": [
       "<matplotlib.figure.Figure at 0x13eb4f5c0>"
      ]
     },
     "metadata": {},
     "output_type": "display_data"
    }
   ],
   "source": [
    "a = photon_spectra.plot((0,20), step=5)\n",
    "ax = a.add_subplot(1,1,1)\n",
    "ax.set_xscale('log')\n",
    "ax.set_yscale('log')"
   ]
  },
  {
   "cell_type": "code",
   "execution_count": 320,
   "metadata": {},
   "outputs": [
    {
     "name": "stdout",
     "output_type": "stream",
     "text": [
      "[  0.00000000e+00   0.00000000e+00   0.00000000e+00   0.00000000e+00\n",
      "   0.00000000e+00   0.00000000e+00   0.00000000e+00   0.00000000e+00\n",
      "   0.00000000e+00   0.00000000e+00   0.00000000e+00   0.00000000e+00\n",
      "   0.00000000e+00   0.00000000e+00   0.00000000e+00   0.00000000e+00\n",
      "   0.00000000e+00   0.00000000e+00   0.00000000e+00   0.00000000e+00\n",
      "   0.00000000e+00   0.00000000e+00   0.00000000e+00   0.00000000e+00\n",
      "   0.00000000e+00   0.00000000e+00   0.00000000e+00   0.00000000e+00\n",
      "   0.00000000e+00   0.00000000e+00   0.00000000e+00   0.00000000e+00\n",
      "   0.00000000e+00   0.00000000e+00   0.00000000e+00   0.00000000e+00\n",
      "   0.00000000e+00   0.00000000e+00   0.00000000e+00   0.00000000e+00\n",
      "   0.00000000e+00   0.00000000e+00   0.00000000e+00   0.00000000e+00\n",
      "   0.00000000e+00   0.00000000e+00   0.00000000e+00   0.00000000e+00\n",
      "   0.00000000e+00   0.00000000e+00   0.00000000e+00   0.00000000e+00\n",
      "   0.00000000e+00   0.00000000e+00   0.00000000e+00   0.00000000e+00\n",
      "   0.00000000e+00   0.00000000e+00   0.00000000e+00   0.00000000e+00\n",
      "   0.00000000e+00   0.00000000e+00   0.00000000e+00   0.00000000e+00\n",
      "   0.00000000e+00   0.00000000e+00   0.00000000e+00   0.00000000e+00\n",
      "   0.00000000e+00   0.00000000e+00   0.00000000e+00   0.00000000e+00\n",
      "   0.00000000e+00   0.00000000e+00   0.00000000e+00   0.00000000e+00\n",
      "   0.00000000e+00   0.00000000e+00   0.00000000e+00   0.00000000e+00\n",
      "   0.00000000e+00   0.00000000e+00   0.00000000e+00   0.00000000e+00\n",
      "   0.00000000e+00   0.00000000e+00   0.00000000e+00   0.00000000e+00\n",
      "   0.00000000e+00   0.00000000e+00   0.00000000e+00   0.00000000e+00\n",
      "   0.00000000e+00   0.00000000e+00   0.00000000e+00   0.00000000e+00\n",
      "   0.00000000e+00   0.00000000e+00   0.00000000e+00   0.00000000e+00\n",
      "   0.00000000e+00   0.00000000e+00   0.00000000e+00   0.00000000e+00\n",
      "   0.00000000e+00   0.00000000e+00   0.00000000e+00   0.00000000e+00\n",
      "   0.00000000e+00   0.00000000e+00   0.00000000e+00   0.00000000e+00\n",
      "   0.00000000e+00   0.00000000e+00   0.00000000e+00   0.00000000e+00\n",
      "   0.00000000e+00   0.00000000e+00   0.00000000e+00   0.00000000e+00\n",
      "   0.00000000e+00   0.00000000e+00   0.00000000e+00   0.00000000e+00\n",
      "   0.00000000e+00   0.00000000e+00   0.00000000e+00   0.00000000e+00\n",
      "   0.00000000e+00   0.00000000e+00   0.00000000e+00   0.00000000e+00\n",
      "   0.00000000e+00   0.00000000e+00   0.00000000e+00   0.00000000e+00\n",
      "   0.00000000e+00   0.00000000e+00   0.00000000e+00   0.00000000e+00\n",
      "   0.00000000e+00   0.00000000e+00   0.00000000e+00   0.00000000e+00\n",
      "   0.00000000e+00   0.00000000e+00   0.00000000e+00   0.00000000e+00\n",
      "   0.00000000e+00   0.00000000e+00   0.00000000e+00   0.00000000e+00\n",
      "   0.00000000e+00   0.00000000e+00   0.00000000e+00   0.00000000e+00\n",
      "   0.00000000e+00   0.00000000e+00   0.00000000e+00   0.00000000e+00\n",
      "   0.00000000e+00   0.00000000e+00   0.00000000e+00   0.00000000e+00\n",
      "   0.00000000e+00   0.00000000e+00   0.00000000e+00   0.00000000e+00\n",
      "   0.00000000e+00   0.00000000e+00   0.00000000e+00   0.00000000e+00\n",
      "   0.00000000e+00   0.00000000e+00   0.00000000e+00   0.00000000e+00\n",
      "   0.00000000e+00   0.00000000e+00   0.00000000e+00   0.00000000e+00\n",
      "   0.00000000e+00   0.00000000e+00   0.00000000e+00   0.00000000e+00\n",
      "   0.00000000e+00   0.00000000e+00   0.00000000e+00   0.00000000e+00\n",
      "   0.00000000e+00   0.00000000e+00   0.00000000e+00   0.00000000e+00\n",
      "   0.00000000e+00   0.00000000e+00   0.00000000e+00   0.00000000e+00\n",
      "   0.00000000e+00   0.00000000e+00   0.00000000e+00   0.00000000e+00\n",
      "   0.00000000e+00   0.00000000e+00   0.00000000e+00   0.00000000e+00\n",
      "   0.00000000e+00   0.00000000e+00   0.00000000e+00   0.00000000e+00\n",
      "   0.00000000e+00   0.00000000e+00   0.00000000e+00   0.00000000e+00\n",
      "   0.00000000e+00   0.00000000e+00   0.00000000e+00   0.00000000e+00\n",
      "   0.00000000e+00   0.00000000e+00   0.00000000e+00   0.00000000e+00\n",
      "   0.00000000e+00   0.00000000e+00   0.00000000e+00   0.00000000e+00\n",
      "   0.00000000e+00   0.00000000e+00   0.00000000e+00   0.00000000e+00\n",
      "   0.00000000e+00   0.00000000e+00   0.00000000e+00   0.00000000e+00\n",
      "   0.00000000e+00   0.00000000e+00   0.00000000e+00   0.00000000e+00\n",
      "   0.00000000e+00   0.00000000e+00   0.00000000e+00   0.00000000e+00\n",
      "   0.00000000e+00   0.00000000e+00   0.00000000e+00   0.00000000e+00\n",
      "   0.00000000e+00   0.00000000e+00   0.00000000e+00   0.00000000e+00\n",
      "   0.00000000e+00   0.00000000e+00   0.00000000e+00   0.00000000e+00\n",
      "   0.00000000e+00   0.00000000e+00   0.00000000e+00   0.00000000e+00\n",
      "   0.00000000e+00   0.00000000e+00   0.00000000e+00   0.00000000e+00\n",
      "   0.00000000e+00   0.00000000e+00   0.00000000e+00   0.00000000e+00\n",
      "   0.00000000e+00   0.00000000e+00   0.00000000e+00   0.00000000e+00\n",
      "   0.00000000e+00   0.00000000e+00   0.00000000e+00   0.00000000e+00\n",
      "   0.00000000e+00   0.00000000e+00   0.00000000e+00   0.00000000e+00\n",
      "   0.00000000e+00   0.00000000e+00   0.00000000e+00   0.00000000e+00\n",
      "   0.00000000e+00   0.00000000e+00   0.00000000e+00   0.00000000e+00\n",
      "   0.00000000e+00   0.00000000e+00   1.21429403e-03   5.58234252e-03\n",
      "   4.36763038e-03   7.30623650e-03   7.05728426e-03   3.52554115e-03\n",
      "   2.77449189e-03   2.62176883e-03   2.49219565e-03   1.96306149e-03\n",
      "   2.12157235e-03   1.63778733e-03   1.57950257e-03   1.45284288e-03\n",
      "   1.17579810e-03   1.28908867e-03   1.04603778e-03   2.45226684e-03\n",
      "   1.07311122e-03   7.03517840e-04   7.58078430e-04   5.59289178e-04\n",
      "   5.65125197e-04   4.90898474e-04   4.13139122e-04   4.28258574e-04\n",
      "   3.34048304e-04   5.16981421e-04   6.53054882e-04   2.41467710e-04\n",
      "   2.40313031e-04   1.80028627e-04   1.85778188e-04   1.51101053e-04\n",
      "   1.33876157e-04   1.32138239e-04   1.15947044e-04   2.70509923e-04\n",
      "   8.88275893e-05   7.17283447e-05   6.81782576e-05   5.21252675e-05\n",
      "   5.53209610e-05   4.76965422e-05   9.86570674e-05   4.47926725e-05\n",
      "   2.56233278e-05   2.71179549e-05   2.05980800e-05   2.76606979e-05\n",
      "   4.26564567e-05   1.21100354e-05   1.36596598e-05   1.23019698e-05\n",
      "   2.16672821e-05   8.74662144e-06   5.51849198e-06   6.46038010e-06\n",
      "   9.29163839e-06   6.34942621e-06   2.94485708e-06   2.92902234e-06\n",
      "   6.41231781e-06   1.56490935e-06   2.32108971e-06   2.81479486e-06\n",
      "   8.51212461e-07   1.45408006e-06   1.42384177e-06   8.24708234e-07\n",
      "   9.16397832e-07   4.05957866e-07   6.15205259e-07   2.01121361e-07\n",
      "   3.76310296e-07   1.19732642e-07   2.44155337e-07   1.40813691e-07\n",
      "   7.57291881e-08   5.44030538e-08   7.51815972e-08   5.17336219e-08\n",
      "   3.21194749e-08   2.30833805e-08   2.30840477e-08   1.19587806e-08\n",
      "   8.42979104e-09   5.25653104e-09   3.88407975e-09   2.52222726e-09\n",
      "   7.28720779e-10   6.06311979e-10   7.15263896e-10   1.67008200e-10\n",
      "   2.10008443e-10   4.61729184e-11   5.07068561e-11   1.68106930e-11\n",
      "   1.20435196e-11   5.68533674e-12   3.31972614e-12   2.50313246e-12\n",
      "   3.42619797e-13   3.81232837e-13   1.89114006e-13   2.20860691e-14\n",
      "   6.33166564e-14   3.05359768e-14   1.13411075e-14   1.02221760e-14\n",
      "   1.99141498e-14   1.97656804e-14   1.15766004e-14   6.60751588e-15\n",
      "   7.54574186e-15   1.30749364e-14   1.43581728e-14   9.49694422e-15\n",
      "   6.31973631e-15   3.49857060e-15   5.82210299e-15   9.94988810e-15\n",
      "   7.85623452e-15   8.18671040e-15   7.64243030e-15   5.78636678e-15\n",
      "   4.61425196e-15   2.18887978e-15   1.93200567e-15   4.65890690e-15\n",
      "   4.37216514e-15   4.84863046e-15   3.81292687e-15   4.10207045e-15\n",
      "   3.66329156e-15   3.32350754e-15   3.56114298e-15   2.86556925e-15\n",
      "   3.09004072e-15   2.73363680e-15   2.56307279e-15   2.61112766e-15\n",
      "   1.94815356e-15   1.66543553e-15   1.04118370e-15   6.46896151e-16\n",
      "   7.27041644e-16   1.36142609e-15   1.54414981e-15   1.26162584e-15\n",
      "   1.24617008e-15   1.22843388e-15   1.01897780e-15   1.15505257e-15\n",
      "   9.25171312e-16   9.35723893e-16   9.00296873e-16   7.56358963e-16\n",
      "   8.67581548e-16   6.76960669e-16   7.03634180e-16   6.60111290e-16\n",
      "   5.65757478e-16   6.42975741e-16   4.99665045e-16   5.30315677e-16\n",
      "   4.83434217e-16   4.26718223e-16   4.72551792e-16   3.71367039e-16\n",
      "   4.00437387e-16   3.54204172e-16   3.23001169e-16   3.47873218e-16\n",
      "   2.76902395e-16   3.03249734e-16   2.60229808e-16   2.45713304e-16\n",
      "   2.57123547e-16   2.07469366e-16   2.30924506e-16   1.92417247e-16\n",
      "   1.88352137e-16   1.91410693e-16   1.56963109e-16   1.77601138e-16\n",
      "   1.43955016e-16   1.46235585e-16   1.44429941e-16   1.20736678e-16\n",
      "   1.39005891e-16   1.09903653e-16   1.16050749e-16   1.11624262e-16\n",
      "   9.54525939e-17   1.12096234e-16   8.67851286e-17   9.54260538e-17\n",
      "   8.96498815e-17   7.99429049e-17   9.26558527e-17   7.31443280e-17\n",
      "   8.92763657e-17   3.02791968e-16   7.58557133e-15   3.25832354e-13\n",
      "   4.79142546e-12   1.21705085e-10   1.15524467e-09   7.31160773e-09\n",
      "   1.84702298e-08   1.22888617e-08   4.29126790e-09   4.07702964e-10]\n"
     ]
    }
   ],
   "source": [
    "# Spectrum needs to be re-binned for comparison\n",
    "dlnphoteng   = np.log((phys.me*1e-9 + start_mwimp)/1e-4)/500\n",
    "photbins     = 1e-4*np.exp(np.arange(501)*dlnphoteng)\n",
    "photenglow   = photbins[0:500]\n",
    "photenghigh  = photbins[1:501]\n",
    "photeng      = np.sqrt(photenglow*photenghigh) \n",
    "newphotspec = spec.Spectrum(photonspec.eng[0:299], photonspec.dNdE[0:299], photonspec.rs)\n",
    "newphotspec.rebin(photeng)\n",
    "print(newphotspec.dNdE)"
   ]
  },
  {
   "cell_type": "code",
   "execution_count": null,
   "metadata": {
    "collapsed": true
   },
   "outputs": [],
   "source": []
  }
 ],
 "metadata": {
  "anaconda-cloud": {},
  "kernelspec": {
   "display_name": "Python 3",
   "language": "python",
   "name": "python3"
  }
 },
 "nbformat": 4,
 "nbformat_minor": 1
}

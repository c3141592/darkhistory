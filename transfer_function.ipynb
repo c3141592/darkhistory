{
 "cells": [
  {
   "cell_type": "code",
   "execution_count": 14,
   "metadata": {},
   "outputs": [
    {
     "name": "stdout",
     "output_type": "stream",
     "text": [
      "The autoreload extension is already loaded. To reload it, use:\n",
      "  %reload_ext autoreload\n"
     ]
    }
   ],
   "source": [
    "%load_ext autoreload"
   ]
  },
  {
   "cell_type": "code",
   "execution_count": 15,
   "metadata": {},
   "outputs": [],
   "source": [
    "%autoreload\n",
    "%matplotlib inline\n",
    "\n",
    "import numpy as np\n",
    "import physics as phys\n",
    "import utilities as utils\n",
    "import spectrum as spec\n",
    "import transferfunction as tf\n",
    "import matplotlib.pyplot as plt\n",
    "import time as time\n",
    "\n",
    "from scipy import integrate\n",
    "from pylab import *"
   ]
  },
  {
   "cell_type": "code",
   "execution_count": 16,
   "metadata": {},
   "outputs": [],
   "source": [
    "rs = np.log(4) + (np.arange(50)+1)*(np.log(31) - np.log(4))/50\n",
    "rs = np.flipud(rs)\n",
    "\n",
    "mmin = 5e3\n",
    "mmax = 1e13\n",
    "nwimpsteps = 40\n",
    "mwimp = mmin*np.exp((np.arange(nwimpsteps))*np.log(mmax/mmin)/nwimpsteps)\n",
    "mwimpmax = mwimp[-1]\n",
    "\n",
    "nengsteps = 500\n",
    "lowinjE = 3e3 + 100.\n",
    "eng = lowinjE*np.exp((np.arange(nengsteps)*np.log(mwimpmax/lowinjE)/nengsteps))"
   ]
  },
  {
   "cell_type": "code",
   "execution_count": 30,
   "metadata": {
    "scrolled": true
   },
   "outputs": [
    {
     "name": "stdout",
     "output_type": "stream",
     "text": [
      "(50, 1, 500, 500)\n"
     ]
    }
   ],
   "source": [
    "tf_raw = np.load('/Users/hongwan/Dropbox (MIT)/transferfunction.npy')\n",
    "tf_raw /= 2 # Claim: because it injects two photons.\n",
    "tf_raw = np.swapaxes(tf_raw,0,1)\n",
    "tf_raw = np.swapaxes(tf_raw,1,2)\n",
    "tf_raw = np.swapaxes(tf_raw,2,3)\n",
    "# Claim: tf ordering is now (1+z, xe, outE, injE)\n",
    "print(tf_raw.shape)\n",
    "\n",
    "spec_list = [spec.Spectrum(eng, tf_raw[i,0,:,-1], exp(rs[i])) for i in arange(50)]\n",
    "test = tf.Transferfunction(eng, spec_list, exp(rs))"
   ]
  },
  {
   "cell_type": "code",
   "execution_count": 31,
   "metadata": {},
   "outputs": [
    {
     "name": "stdout",
     "output_type": "stream",
     "text": [
      "[0.00013349937346870009, 0.00013930862010344297, 0.00014534205930605783, 0.00015161878224374047, 0.00015814637907056472, 0.00016492735839677535, 0.00017197530531169763, 0.00017930350901729477, 0.00018692904092789891, 0.00019488033195961697, 0.00020320065885533775, 0.00021193946053388443, 0.00022147094445576417, 0.00023295121973309892, 0.00024724005785243359, 0.00028172691346626188, 0.00033046640602389296, 0.00054203770549119345, 0.00091609310562357465, 0.0021648305026328476, 0.0049348923781459848, 0.011231191841215822, 0.028321301726276431, 0.056440510017071538, 0.14352040565573157, 0.27212604966985876, 0.63198697083167354, 1.2151084576939577, 2.4413173659761416, 4.6609751846722425, 8.2568584995402752, 14.971505357641721, 23.192093743496969, 34.886682855078547, 38.957336225011218, 38.18193818790941, 37.422403899275707, 36.670022461513767, 35.936647844833082, 35.212132511151061, 34.505133399735882, 33.81050760743836, 33.128572139436223, 32.463272698473432, 31.812265469672159, 31.177992067379961, 30.552878091286605, 29.946700115968831, 29.359704326298711, 28.803710968530631]\n"
     ]
    }
   ],
   "source": [
    "print([spec.dNdE[0] for spec in test])"
   ]
  },
  {
   "cell_type": "code",
   "execution_count": 32,
   "metadata": {},
   "outputs": [
    {
     "name": "stdout",
     "output_type": "stream",
     "text": [
      "[[  1.33499373e-04   1.39308620e-04   1.39308620e-04]\n",
      " [  5.56348624e-05   5.80557455e-05   5.80557455e-05]\n",
      " [  6.58763238e-05   6.87428516e-05   6.87428516e-05]\n",
      " ..., \n",
      " [  3.47320061e-14   3.47321732e-14   3.47321732e-14]\n",
      " [  3.99016158e-12   3.99015838e-12   3.99015838e-12]\n",
      " [  4.02928467e-13   4.02928144e-13   4.02928144e-13]]\n"
     ]
    }
   ],
   "source": [
    "old_test0 = test[0]\n",
    "test[0] = test[1]\n",
    "print(np.stack([old_test0.dNdE,test[0].dNdE,test[1].dNdE],axis=-1))"
   ]
  },
  {
   "cell_type": "code",
   "execution_count": null,
   "metadata": {
    "collapsed": true
   },
   "outputs": [],
   "source": []
  }
 ],
 "metadata": {
  "anaconda-cloud": {},
  "kernelspec": {
   "display_name": "Python 3",
   "language": "python",
   "name": "python3"
  },
  "language_info": {
   "codemirror_mode": {
    "name": "ipython",
    "version": 3
   },
   "file_extension": ".py",
   "mimetype": "text/x-python",
   "name": "python",
   "nbconvert_exporter": "python",
   "pygments_lexer": "ipython3",
   "version": "3.6.1"
  }
 },
 "nbformat": 4,
 "nbformat_minor": 1
}

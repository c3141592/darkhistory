{
 "cells": [
  {
   "cell_type": "code",
   "execution_count": 1,
   "metadata": {},
   "outputs": [],
   "source": [
    "%load_ext autoreload"
   ]
  },
  {
   "cell_type": "code",
   "execution_count": 2,
   "metadata": {},
   "outputs": [],
   "source": [
    "%autoreload\n",
    "%matplotlib inline\n",
    "\n",
    "import numpy as np\n",
    "import physics as phys\n",
    "import utilities as utils\n",
    "import spectrum as spec\n",
    "import transferfunction as tf\n",
    "import matplotlib\n",
    "import matplotlib.pyplot as plt\n",
    "import time as time\n",
    "\n",
    "matplotlib.rcParams['figure.figsize'] = [10,10]\n",
    "\n",
    "\n",
    "from scipy import integrate\n",
    "from astropy.io import fits"
   ]
  },
  {
   "cell_type": "code",
   "execution_count": 3,
   "metadata": {
    "collapsed": true
   },
   "outputs": [],
   "source": [
    "log_rs = np.log(4) + (np.arange(50)+1)*(np.log(31) - np.log(4))/50\n",
    "log_rs = np.flipud(log_rs)\n",
    "\n",
    "mmin = 5e3\n",
    "mmax = 1e13\n",
    "nwimpsteps = 40\n",
    "mwimp = mmin*np.exp((np.arange(nwimpsteps))*np.log(mmax/mmin)/nwimpsteps)\n",
    "mwimpmax = mwimp[-1]\n",
    "\n",
    "nengsteps = 500\n",
    "lowinjE = 3e3 + 100.\n",
    "eng = lowinjE*np.exp((np.arange(nengsteps)*np.log(mwimpmax/lowinjE)/nengsteps))"
   ]
  },
  {
   "cell_type": "code",
   "execution_count": 4,
   "metadata": {
    "scrolled": true
   },
   "outputs": [
    {
     "name": "stdout",
     "output_type": "stream",
     "text": [
      "(50, 1, 500, 500)\n"
     ]
    }
   ],
   "source": [
    "tf_raw = np.load('/Users/hongwan/Dropbox (MIT)/transferfunction.npy')\n",
    "tf_raw = np.swapaxes(tf_raw,0,1)\n",
    "tf_raw = np.swapaxes(tf_raw,1,2)\n",
    "tf_raw = np.swapaxes(tf_raw,2,3)\n",
    "tf_raw = np.flip(tf_raw,axis=0)\n",
    "# Claim: tf ordering is now (1+z, xe, outE, injE), redshift in decreasing order.\n",
    "print(tf_raw.shape)\n",
    "\n",
    "#tf_raw_list is an array of dimensions [N_injE, N_rs, N_outE].  \n",
    "tf_raw_list =[[spec.Spectrum(eng, tf_raw[i,0,:,j], np.exp(log_rs[i])) for i in np.arange(tf_raw.shape[0])] \n",
    "            for j in np.arange(tf_raw.shape[-1])]\n",
    "#transfer_func_table is a list of length N_injE, each with a Transferfunction object, with rs and outE as abscissa.\n",
    "transfer_func_table = [tf.Transferfunction(spec_list) for spec_list in tf_raw_list]"
   ]
  },
  {
   "cell_type": "code",
   "execution_count": 5,
   "metadata": {},
   "outputs": [],
   "source": [
    "#Normalize each transfer_func in transfer_func_table by dN/dE of a single particle of injE. \n",
    "#Two particles injected initially. \n",
    "dNdE_norm = spec.rebin_N_arr(np.ones(eng.size), eng, eng)\n",
    "\n",
    "for i in np.arange(eng.size):\n",
    "    transfer_func_table[i] /= (2*dNdE_norm.dNdE[i])"
   ]
  },
  {
   "cell_type": "code",
   "execution_count": 38,
   "metadata": {
    "collapsed": true
   },
   "outputs": [],
   "source": [
    "#Initialize\n",
    "start_mwimp = eng[299]\n",
    "rs_list = np.exp(np.arange(log_rs[0], log_rs[2], -0.002))\n",
    "\n",
    "photon_spec_init = spec.rebin_N_arr(np.array([2]), np.array([eng[299]]), eng)\n",
    "photon_spec_init.rs = rs_list[0]"
   ]
  },
  {
   "cell_type": "code",
   "execution_count": 39,
   "metadata": {},
   "outputs": [
    {
     "name": "stdout",
     "output_type": "stream",
     "text": [
      "[ 31.          30.93806196  30.87624767  30.81455689  30.75298936\n",
      "  30.69154485  30.6302231   30.56902387  30.50794692  30.446992\n",
      "  30.38615887  30.32544729  30.264857    30.20438778  30.14403937\n",
      "  30.08381154  30.02370404  29.96371664  29.9038491   29.84410117\n",
      "  29.78447261  29.7249632   29.66557268  29.60630083  29.5471474\n",
      "  29.48811216  29.42919487  29.3703953   29.31171321  29.25314837\n",
      "  29.19470054  29.13636949  29.07815499  29.02005679  28.96207468\n",
      "  28.90420842  28.84645777  28.78882251  28.7313024   28.67389722\n",
      "  28.61660674]\n"
     ]
    }
   ],
   "source": [
    "print(rs_list)"
   ]
  },
  {
   "cell_type": "code",
   "execution_count": 40,
   "metadata": {},
   "outputs": [],
   "source": [
    "photon_spectra = spec.Spectra([photon_spec_init])\n",
    "\n",
    "for rs in rs_list:\n",
    "    tf_at_rs = tf.Transferfunction([transfer_func.at_rs(rs) for transfer_func in transfer_func_table]) \n",
    "    photon_spectra.append(tf_at_rs.sum_specs_by_weight(photon_spectra[-1]))\n",
    "    photon_spectra[-1].rs = rs  "
   ]
  },
  {
   "cell_type": "code",
   "execution_count": 9,
   "metadata": {},
   "outputs": [],
   "source": [
    "file = fits.open(\"/Users/hongwan/Dropbox (MIT)/Photon Deposition/tf_z_3.100E+01_nstep_2049_logE_9.038E+00_xe_1.000E-04.fits\")\n",
    "\n",
    "file_eng = file[1].data['energy'][0,:]\n",
    "file_rs = file[1].data['redshift'][0,:]\n",
    "file_photonspectrum = file[1].data['photonspectrum'][0,:,:]"
   ]
  },
  {
   "cell_type": "code",
   "execution_count": 10,
   "metadata": {},
   "outputs": [],
   "source": [
    "file_spectra = spec.Spectra([spec.Spectrum(file_eng, photspec, rs) \n",
    "                             for photspec,rs in zip(file_photonspectrum, file_rs)])"
   ]
  },
  {
   "cell_type": "code",
   "execution_count": 11,
   "metadata": {},
   "outputs": [],
   "source": [
    "file_spectra.rebin(eng)"
   ]
  },
  {
   "cell_type": "code",
   "execution_count": 12,
   "metadata": {},
   "outputs": [
    {
     "data": {
      "text/plain": [
       "array([ 31.        ,  30.96901549,  30.93806196, ...,   4.00677711,\n",
       "         4.00277233,   3.99877156])"
      ]
     },
     "execution_count": 12,
     "metadata": {},
     "output_type": "execute_result"
    }
   ],
   "source": [
    "file_spectra.rs"
   ]
  },
  {
   "cell_type": "code",
   "execution_count": 42,
   "metadata": {},
   "outputs": [
    {
     "name": "stdout",
     "output_type": "stream",
     "text": [
      "28.6738972228\n",
      "28.6738972228\n"
     ]
    },
    {
     "data": {
      "image/png": "[encoded data removed]",
      "text/plain": [
       "<matplotlib.figure.Figure at 0x13248b358>"
      ]
     },
     "metadata": {},
     "output_type": "display_data"
    }
   ],
   "source": [
    "i=40\n",
    "j=(i-1)*2\n",
    "print(photon_spectra[i].rs)\n",
    "print(file_spectra[j].rs)\n",
    "\n",
    "ax = plt.subplot(1,1,1)\n",
    "plt.plot(photon_spectra.eng, photon_spectra[i].dNdE)\n",
    "plt.plot(file_spectra.eng, file_spectra[j].dNdE)\n",
    "ax.set_xscale('log')\n",
    "ax.set_yscale('log')\n",
    "# b = file_spectra.plot(2)\n",
    "# axb = b.add_subplot(1,1,1)\n",
    "# axb.set_xscale('log')\n",
    "# axb.set_yscale('log')"
   ]
  },
  {
   "cell_type": "code",
   "execution_count": null,
   "metadata": {
    "collapsed": true
   },
   "outputs": [],
   "source": []
  }
 ],
 "metadata": {
  "anaconda-cloud": {},
  "kernelspec": {
   "display_name": "Python 3",
   "language": "python",
   "name": "python3"
  },
  "language_info": {
   "codemirror_mode": {
    "name": "ipython",
    "version": 3
   },
   "file_extension": ".py",
   "mimetype": "text/x-python",
   "name": "python",
   "nbconvert_exporter": "python",
   "pygments_lexer": "ipython3",
   "version": "3.6.1"
  }
 },
 "nbformat": 4,
 "nbformat_minor": 1
}
